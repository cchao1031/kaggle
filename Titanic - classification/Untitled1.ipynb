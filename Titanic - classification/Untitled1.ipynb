{
 "cells": [
  {
   "cell_type": "code",
   "execution_count": 1,
   "metadata": {
    "collapsed": true
   },
   "outputs": [],
   "source": [
    "#imports\n",
    "\n",
    "#numpy, pandas\n",
    "import numpy as np\n",
    "import pandas as pd\n",
    "from pandas import Series, DataFrame\n",
    "\n",
    "#matplotlib, seaborn\n",
    "import matplotlib.pyplot as plt\n",
    "import seaborn as sns\n",
    "sns.set_style('whitegrid')\n",
    "alpha = 0.7\n",
    "%matplotlib inline\n",
    "\n",
    "#regex\n",
    "import re"
   ]
  },
  {
   "cell_type": "code",
   "execution_count": 2,
   "metadata": {
    "collapsed": false
   },
   "outputs": [
    {
     "data": {
      "text/html": [
       "<div>\n",
       "<table border=\"1\" class=\"dataframe\">\n",
       "  <thead>\n",
       "    <tr style=\"text-align: right;\">\n",
       "      <th></th>\n",
       "      <th>PassengerId</th>\n",
       "      <th>Survived</th>\n",
       "      <th>Pclass</th>\n",
       "      <th>Name</th>\n",
       "      <th>Sex</th>\n",
       "      <th>Age</th>\n",
       "      <th>SibSp</th>\n",
       "      <th>Parch</th>\n",
       "      <th>Ticket</th>\n",
       "      <th>Fare</th>\n",
       "      <th>Cabin</th>\n",
       "      <th>Embarked</th>\n",
       "    </tr>\n",
       "  </thead>\n",
       "  <tbody>\n",
       "    <tr>\n",
       "      <th>0</th>\n",
       "      <td>1</td>\n",
       "      <td>0</td>\n",
       "      <td>3</td>\n",
       "      <td>Braund, Mr. Owen Harris</td>\n",
       "      <td>male</td>\n",
       "      <td>22.0</td>\n",
       "      <td>1</td>\n",
       "      <td>0</td>\n",
       "      <td>A/5 21171</td>\n",
       "      <td>7.2500</td>\n",
       "      <td>NaN</td>\n",
       "      <td>S</td>\n",
       "    </tr>\n",
       "    <tr>\n",
       "      <th>1</th>\n",
       "      <td>2</td>\n",
       "      <td>1</td>\n",
       "      <td>1</td>\n",
       "      <td>Cumings, Mrs. John Bradley (Florence Briggs Th...</td>\n",
       "      <td>female</td>\n",
       "      <td>38.0</td>\n",
       "      <td>1</td>\n",
       "      <td>0</td>\n",
       "      <td>PC 17599</td>\n",
       "      <td>71.2833</td>\n",
       "      <td>C85</td>\n",
       "      <td>C</td>\n",
       "    </tr>\n",
       "    <tr>\n",
       "      <th>2</th>\n",
       "      <td>3</td>\n",
       "      <td>1</td>\n",
       "      <td>3</td>\n",
       "      <td>Heikkinen, Miss. Laina</td>\n",
       "      <td>female</td>\n",
       "      <td>26.0</td>\n",
       "      <td>0</td>\n",
       "      <td>0</td>\n",
       "      <td>STON/O2. 3101282</td>\n",
       "      <td>7.9250</td>\n",
       "      <td>NaN</td>\n",
       "      <td>S</td>\n",
       "    </tr>\n",
       "    <tr>\n",
       "      <th>3</th>\n",
       "      <td>4</td>\n",
       "      <td>1</td>\n",
       "      <td>1</td>\n",
       "      <td>Futrelle, Mrs. Jacques Heath (Lily May Peel)</td>\n",
       "      <td>female</td>\n",
       "      <td>35.0</td>\n",
       "      <td>1</td>\n",
       "      <td>0</td>\n",
       "      <td>113803</td>\n",
       "      <td>53.1000</td>\n",
       "      <td>C123</td>\n",
       "      <td>S</td>\n",
       "    </tr>\n",
       "    <tr>\n",
       "      <th>4</th>\n",
       "      <td>5</td>\n",
       "      <td>0</td>\n",
       "      <td>3</td>\n",
       "      <td>Allen, Mr. William Henry</td>\n",
       "      <td>male</td>\n",
       "      <td>35.0</td>\n",
       "      <td>0</td>\n",
       "      <td>0</td>\n",
       "      <td>373450</td>\n",
       "      <td>8.0500</td>\n",
       "      <td>NaN</td>\n",
       "      <td>S</td>\n",
       "    </tr>\n",
       "  </tbody>\n",
       "</table>\n",
       "</div>"
      ],
      "text/plain": [
       "   PassengerId  Survived  Pclass  \\\n",
       "0            1         0       3   \n",
       "1            2         1       1   \n",
       "2            3         1       3   \n",
       "3            4         1       1   \n",
       "4            5         0       3   \n",
       "\n",
       "                                                Name     Sex   Age  SibSp  \\\n",
       "0                            Braund, Mr. Owen Harris    male  22.0      1   \n",
       "1  Cumings, Mrs. John Bradley (Florence Briggs Th...  female  38.0      1   \n",
       "2                             Heikkinen, Miss. Laina  female  26.0      0   \n",
       "3       Futrelle, Mrs. Jacques Heath (Lily May Peel)  female  35.0      1   \n",
       "4                           Allen, Mr. William Henry    male  35.0      0   \n",
       "\n",
       "   Parch            Ticket     Fare Cabin Embarked  \n",
       "0      0         A/5 21171   7.2500   NaN        S  \n",
       "1      0          PC 17599  71.2833   C85        C  \n",
       "2      0  STON/O2. 3101282   7.9250   NaN        S  \n",
       "3      0            113803  53.1000  C123        S  \n",
       "4      0            373450   8.0500   NaN        S  "
      ]
     },
     "execution_count": 2,
     "metadata": {},
     "output_type": "execute_result"
    }
   ],
   "source": [
    "#get titanic train & test csv files as a Dataframe\n",
    "df_train = pd.read_csv('train.csv')\n",
    "df_test = pd.read_csv('test.csv')\n",
    "\n",
    "#preview the data\n",
    "df_train.head()"
   ]
  },
  {
   "cell_type": "code",
   "execution_count": 3,
   "metadata": {
    "collapsed": false
   },
   "outputs": [
    {
     "name": "stdout",
     "output_type": "stream",
     "text": [
      "<class 'pandas.core.frame.DataFrame'>\n",
      "RangeIndex: 891 entries, 0 to 890\n",
      "Data columns (total 12 columns):\n",
      "PassengerId    891 non-null int64\n",
      "Survived       891 non-null int64\n",
      "Pclass         891 non-null int64\n",
      "Name           891 non-null object\n",
      "Sex            891 non-null object\n",
      "Age            714 non-null float64\n",
      "SibSp          891 non-null int64\n",
      "Parch          891 non-null int64\n",
      "Ticket         891 non-null object\n",
      "Fare           891 non-null float64\n",
      "Cabin          204 non-null object\n",
      "Embarked       889 non-null object\n",
      "dtypes: float64(2), int64(5), object(5)\n",
      "memory usage: 83.6+ KB\n",
      "-------------------------------\n",
      "<class 'pandas.core.frame.DataFrame'>\n",
      "RangeIndex: 418 entries, 0 to 417\n",
      "Data columns (total 11 columns):\n",
      "PassengerId    418 non-null int64\n",
      "Pclass         418 non-null int64\n",
      "Name           418 non-null object\n",
      "Sex            418 non-null object\n",
      "Age            332 non-null float64\n",
      "SibSp          418 non-null int64\n",
      "Parch          418 non-null int64\n",
      "Ticket         418 non-null object\n",
      "Fare           417 non-null float64\n",
      "Cabin          91 non-null object\n",
      "Embarked       418 non-null object\n",
      "dtypes: float64(2), int64(4), object(5)\n",
      "memory usage: 36.0+ KB\n"
     ]
    }
   ],
   "source": [
    "df_train.info()\n",
    "print('-------------------------------')\n",
    "df_test.info()"
   ]
  },
  {
   "cell_type": "code",
   "execution_count": 4,
   "metadata": {
    "collapsed": false
   },
   "outputs": [
    {
     "name": "stdout",
     "output_type": "stream",
     "text": [
      "0    549\n",
      "1    342\n",
      "Name: Survived, dtype: int64\n"
     ]
    }
   ],
   "source": [
    "print(df_train.Survived.value_counts())"
   ]
  },
  {
   "cell_type": "markdown",
   "metadata": {},
   "source": [
    "# 1.Look closely to the train data"
   ]
  },
  {
   "cell_type": "code",
   "execution_count": 5,
   "metadata": {
    "collapsed": false
   },
   "outputs": [
    {
     "data": {
      "text/plain": [
       "<seaborn.axisgrid.FacetGrid at 0xbd1a4e0>"
      ]
     },
     "execution_count": 5,
     "metadata": {},
     "output_type": "execute_result"
    },
    {
     "data": {
      "image/png": "[encoded data removed]",
      "text/plain": [
       "<matplotlib.figure.Figure at 0xba32588>"
      ]
     },
     "metadata": {},
     "output_type": "display_data"
    },
    {
     "data": {
      "image/png": "[encoded data removed]",
      "text/plain": [
       "<matplotlib.figure.Figure at 0xbd1a2e8>"
      ]
     },
     "metadata": {},
     "output_type": "display_data"
    }
   ],
   "source": [
    "#社会等级越高，幸存的比例就越大，且女性具有更高的幸存几率\n",
    "\n",
    "fig, ax = plt.subplots(1,2, figsize = (15, 5))\n",
    "sns.countplot('Pclass', data = df_train, alpha = alpha, ax = ax[0])\n",
    "sns.countplot('Pclass', hue = 'Survived', data = df_train, alpha = alpha, ax = ax[1])\n",
    "\n",
    "sns.factorplot('Sex', hue = 'Survived', col = 'Pclass', data = df_train, kind = 'count', alpha = alpha)"
   ]
  },
  {
   "cell_type": "code",
   "execution_count": 6,
   "metadata": {
    "collapsed": false
   },
   "outputs": [
    {
     "data": {
      "text/plain": [
       "<matplotlib.text.Text at 0xbcbf860>"
      ]
     },
     "execution_count": 6,
     "metadata": {},
     "output_type": "execute_result"
    },
    {
     "data": {
      "image/png": "[encoded data removed]",
      "text/plain": [
       "<matplotlib.figure.Figure at 0xc35eb70>"
      ]
     },
     "metadata": {},
     "output_type": "display_data"
    }
   ],
   "source": [
    "#年龄小于10岁的儿童获救的密度较大\n",
    "\n",
    "fig, ax = plt.subplots(figsize = (15, 5))\n",
    "sns.kdeplot(df_train.Age[df_train.Survived == 1], color = 'r', ax = ax, alpha = alpha, label = '1')\n",
    "sns.kdeplot(df_train.Age[df_train.Survived == 0], color = 'b', ax = ax, alpha = alpha, label = '0')\n",
    "ax.set_xlabel('Age')"
   ]
  },
  {
   "cell_type": "code",
   "execution_count": 7,
   "metadata": {
    "collapsed": false
   },
   "outputs": [
    {
     "data": {
      "text/plain": [
       "<matplotlib.axes._subplots.AxesSubplot at 0xba32080>"
      ]
     },
     "execution_count": 7,
     "metadata": {},
     "output_type": "execute_result"
    },
    {
     "data": {
      "image/png": "[encoded data removed]",
      "text/plain": [
       "<matplotlib.figure.Figure at 0x950f240>"
      ]
     },
     "metadata": {},
     "output_type": "display_data"
    }
   ],
   "source": [
    "#家庭人数在2~4个的情况下存活概率较死亡概率要来得高\n",
    "\n",
    "df_train['family_size'] = df_train.SibSp + df_train.Parch + 1\n",
    "sns.countplot('family_size', hue = 'Survived', data = df_train, alpha = alpha)"
   ]
  },
  {
   "cell_type": "code",
   "execution_count": 8,
   "metadata": {
    "collapsed": false
   },
   "outputs": [
    {
     "data": {
      "text/plain": [
       "<matplotlib.axes._subplots.AxesSubplot at 0xbad6e80>"
      ]
     },
     "execution_count": 8,
     "metadata": {},
     "output_type": "execute_result"
    },
    {
     "data": {
      "image/png": "[encoded data removed]",
      "text/plain": [
       "<matplotlib.figure.Figure at 0x950f0b8>"
      ]
     },
     "metadata": {},
     "output_type": "display_data"
    },
    {
     "data": {
      "image/png": "[encoded data removed]",
      "text/plain": [
       "<matplotlib.figure.Figure at 0xbcfbeb8>"
      ]
     },
     "metadata": {},
     "output_type": "display_data"
    }
   ],
   "source": [
    "#从Cherbourg上船的人具有较高幸存几率\n",
    "\n",
    "#plot\n",
    "sns.factorplot('Embarked', 'Survived', data = df_train, size=3, aspect=2, order = ['C', 'Q', 'S'])\n",
    "\n",
    "fig, ax = plt.subplots(1, 2, figsize = (15, 5))\n",
    "sns.countplot('Embarked', data = df_train, order = ['C', 'Q', 'S'], ax = ax[0])\n",
    "survived_embarked_cross = pd.crosstab(df_train.Survived, df_train.Embarked)\n",
    "survived_embarked_cross.div(survived_embarked_cross.sum(1).astype(float), axis = 0).plot(kind = 'bar',\\\n",
    "                                                                                         ax = ax[1])"
   ]
  },
  {
   "cell_type": "markdown",
   "metadata": {},
   "source": [
    "# 2.Deal with the missing values"
   ]
  },
  {
   "cell_type": "code",
   "execution_count": 9,
   "metadata": {
    "collapsed": false
   },
   "outputs": [
    {
     "name": "stdout",
     "output_type": "stream",
     "text": [
      "PassengerId      0\n",
      "Survived         0\n",
      "Pclass           0\n",
      "Name             0\n",
      "Sex              0\n",
      "Age            177\n",
      "SibSp            0\n",
      "Parch            0\n",
      "Ticket           0\n",
      "Fare             0\n",
      "Cabin          687\n",
      "Embarked         2\n",
      "family_size      0\n",
      "dtype: int64\n",
      "-------------------------------\n",
      "PassengerId      0\n",
      "Pclass           0\n",
      "Name             0\n",
      "Sex              0\n",
      "Age             86\n",
      "SibSp            0\n",
      "Parch            0\n",
      "Ticket           0\n",
      "Fare             1\n",
      "Cabin          327\n",
      "Embarked         0\n",
      "dtype: int64\n"
     ]
    }
   ],
   "source": [
    "print(df_train.isnull().sum())\n",
    "print('-------------------------------')\n",
    "print(df_test.isnull().sum())"
   ]
  },
  {
   "cell_type": "markdown",
   "metadata": {},
   "source": [
    "## Missing values on Embarked"
   ]
  },
  {
   "cell_type": "code",
   "execution_count": 10,
   "metadata": {
    "collapsed": false
   },
   "outputs": [
    {
     "data": {
      "text/html": [
       "<div>\n",
       "<table border=\"1\" class=\"dataframe\">\n",
       "  <thead>\n",
       "    <tr style=\"text-align: right;\">\n",
       "      <th></th>\n",
       "      <th>PassengerId</th>\n",
       "      <th>Survived</th>\n",
       "      <th>Pclass</th>\n",
       "      <th>Name</th>\n",
       "      <th>Sex</th>\n",
       "      <th>Age</th>\n",
       "      <th>SibSp</th>\n",
       "      <th>Parch</th>\n",
       "      <th>Ticket</th>\n",
       "      <th>Fare</th>\n",
       "      <th>Cabin</th>\n",
       "      <th>Embarked</th>\n",
       "      <th>family_size</th>\n",
       "    </tr>\n",
       "  </thead>\n",
       "  <tbody>\n",
       "    <tr>\n",
       "      <th>61</th>\n",
       "      <td>62</td>\n",
       "      <td>1</td>\n",
       "      <td>1</td>\n",
       "      <td>Icard, Miss. Amelie</td>\n",
       "      <td>female</td>\n",
       "      <td>38.0</td>\n",
       "      <td>0</td>\n",
       "      <td>0</td>\n",
       "      <td>113572</td>\n",
       "      <td>80.0</td>\n",
       "      <td>B28</td>\n",
       "      <td>NaN</td>\n",
       "      <td>1</td>\n",
       "    </tr>\n",
       "    <tr>\n",
       "      <th>829</th>\n",
       "      <td>830</td>\n",
       "      <td>1</td>\n",
       "      <td>1</td>\n",
       "      <td>Stone, Mrs. George Nelson (Martha Evelyn)</td>\n",
       "      <td>female</td>\n",
       "      <td>62.0</td>\n",
       "      <td>0</td>\n",
       "      <td>0</td>\n",
       "      <td>113572</td>\n",
       "      <td>80.0</td>\n",
       "      <td>B28</td>\n",
       "      <td>NaN</td>\n",
       "      <td>1</td>\n",
       "    </tr>\n",
       "  </tbody>\n",
       "</table>\n",
       "</div>"
      ],
      "text/plain": [
       "     PassengerId  Survived  Pclass                                       Name  \\\n",
       "61            62         1       1                        Icard, Miss. Amelie   \n",
       "829          830         1       1  Stone, Mrs. George Nelson (Martha Evelyn)   \n",
       "\n",
       "        Sex   Age  SibSp  Parch  Ticket  Fare Cabin Embarked  family_size  \n",
       "61   female  38.0      0      0  113572  80.0   B28      NaN            1  \n",
       "829  female  62.0      0      0  113572  80.0   B28      NaN            1  "
      ]
     },
     "execution_count": 10,
     "metadata": {},
     "output_type": "execute_result"
    }
   ],
   "source": [
    "#可以观察出这两个乘客来自于相同的人群（same Pclass），最主要的是票价（same Fare）也正好相同\n",
    "#因此估计她们从同一个地方上的船\n",
    "\n",
    "df_train[df_train.Embarked.isnull()]"
   ]
  },
  {
   "cell_type": "code",
   "execution_count": 11,
   "metadata": {
    "collapsed": false
   },
   "outputs": [
    {
     "data": {
      "image/png": "[encoded data removed]",
      "text/plain": [
       "<matplotlib.figure.Figure at 0xbc3ea58>"
      ]
     },
     "metadata": {},
     "output_type": "display_data"
    }
   ],
   "source": [
    "#从boxplot中可以看到两个缺失值应该填上‘C’，因为大多数Pclass为1，Fare为80的人都来自于‘C’\n",
    "\n",
    "#plot\n",
    "fig, ax = plt.subplots(figsize = (12, 5))\n",
    "sns.boxplot('Pclass', 'Fare', hue = 'Embarked', data = df_train, showfliers = False, ax = ax)\n",
    "ax.axhline(y = 80, color = 'y')\n",
    "\n",
    "#fillna\n",
    "df_train.Embarked.fillna('C', inplace = True)"
   ]
  },
  {
   "cell_type": "markdown",
   "metadata": {},
   "source": [
    "##  Missing value on Fare"
   ]
  },
  {
   "cell_type": "code",
   "execution_count": 12,
   "metadata": {
    "collapsed": false
   },
   "outputs": [
    {
     "data": {
      "text/html": [
       "<div>\n",
       "<table border=\"1\" class=\"dataframe\">\n",
       "  <thead>\n",
       "    <tr style=\"text-align: right;\">\n",
       "      <th></th>\n",
       "      <th>PassengerId</th>\n",
       "      <th>Pclass</th>\n",
       "      <th>Name</th>\n",
       "      <th>Sex</th>\n",
       "      <th>Age</th>\n",
       "      <th>SibSp</th>\n",
       "      <th>Parch</th>\n",
       "      <th>Ticket</th>\n",
       "      <th>Fare</th>\n",
       "      <th>Cabin</th>\n",
       "      <th>Embarked</th>\n",
       "    </tr>\n",
       "  </thead>\n",
       "  <tbody>\n",
       "    <tr>\n",
       "      <th>152</th>\n",
       "      <td>1044</td>\n",
       "      <td>3</td>\n",
       "      <td>Storey, Mr. Thomas</td>\n",
       "      <td>male</td>\n",
       "      <td>60.5</td>\n",
       "      <td>0</td>\n",
       "      <td>0</td>\n",
       "      <td>3701</td>\n",
       "      <td>NaN</td>\n",
       "      <td>NaN</td>\n",
       "      <td>S</td>\n",
       "    </tr>\n",
       "  </tbody>\n",
       "</table>\n",
       "</div>"
      ],
      "text/plain": [
       "     PassengerId  Pclass                Name   Sex   Age  SibSp  Parch Ticket  \\\n",
       "152         1044       3  Storey, Mr. Thomas  male  60.5      0      0   3701   \n",
       "\n",
       "     Fare Cabin Embarked  \n",
       "152   NaN   NaN        S  "
      ]
     },
     "execution_count": 12,
     "metadata": {},
     "output_type": "execute_result"
    }
   ],
   "source": [
    "df_test[df_test.Fare.isnull()]"
   ]
  },
  {
   "cell_type": "code",
   "execution_count": 13,
   "metadata": {
    "collapsed": false
   },
   "outputs": [
    {
     "data": {
      "text/plain": [
       "<matplotlib.text.Text at 0xe3979b0>"
      ]
     },
     "execution_count": 13,
     "metadata": {},
     "output_type": "execute_result"
    },
    {
     "data": {
      "image/png": "[encoded data removed]",
      "text/plain": [
       "<matplotlib.figure.Figure at 0xde0e5c0>"
      ]
     },
     "metadata": {},
     "output_type": "display_data"
    }
   ],
   "source": [
    "#plot\n",
    "fig, ax = plt.subplots()\n",
    "df_test.Fare[(df_test.Pclass == 3) & (df_test.Embarked == 'S')].hist(bins = 100, ax = ax, alpha = alpha)\n",
    "ax.set_xlabel('Fare')\n",
    "ax.set_ylabel('Frequency')\n",
    "ax.set_title('Histogram of Fare, Pclass 3 and Embarked S')"
   ]
  },
  {
   "cell_type": "code",
   "execution_count": 14,
   "metadata": {
    "collapsed": false
   },
   "outputs": [
    {
     "data": {
      "text/plain": [
       "8.05"
      ]
     },
     "execution_count": 14,
     "metadata": {},
     "output_type": "execute_result"
    }
   ],
   "source": [
    "df_test.Fare[(df_test.Pclass == 3) & (df_test.Embarked == 'S')].median()"
   ]
  },
  {
   "cell_type": "code",
   "execution_count": 15,
   "metadata": {
    "collapsed": false
   },
   "outputs": [],
   "source": [
    "df_test.Fare.fillna(8.05, inplace = True)"
   ]
  },
  {
   "cell_type": "markdown",
   "metadata": {},
   "source": [
    "## Missing value on Cabin"
   ]
  },
  {
   "cell_type": "code",
   "execution_count": 16,
   "metadata": {
    "collapsed": true
   },
   "outputs": [],
   "source": [
    "#由于缺失量太大，直接剔除\n",
    "\n",
    "#df_train.drop('Cabin', axis = 1, inplace = True)\n",
    "#df_test.drop('Cabin', axis = 1, inplace = True)"
   ]
  },
  {
   "cell_type": "markdown",
   "metadata": {},
   "source": [
    "# 3.Feature Engineering"
   ]
  },
  {
   "cell_type": "code",
   "execution_count": 17,
   "metadata": {
    "collapsed": true
   },
   "outputs": [],
   "source": [
    "df_full = pd.concat([df_train, df_test], ignore_index = True)"
   ]
  },
  {
   "cell_type": "markdown",
   "metadata": {},
   "source": [
    "## create a feature, Title"
   ]
  },
  {
   "cell_type": "code",
   "execution_count": 18,
   "metadata": {
    "collapsed": false
   },
   "outputs": [
    {
     "data": {
      "text/plain": [
       "Mr              757\n",
       "Miss            260\n",
       "Mrs             197\n",
       "Master           61\n",
       "Rev               8\n",
       "Dr                8\n",
       "Col               4\n",
       "Major             2\n",
       "Mlle              2\n",
       "Ms                2\n",
       "Mme               1\n",
       "the Countess      1\n",
       "Don               1\n",
       "Lady              1\n",
       "Sir               1\n",
       "Jonkheer          1\n",
       "Dona              1\n",
       "Capt              1\n",
       "Name: title, dtype: int64"
      ]
     },
     "execution_count": 18,
     "metadata": {},
     "output_type": "execute_result"
    }
   ],
   "source": [
    "df_full['title'] = df_full.Name.map(lambda x: re.compile(',\\s(.*?)\\.').findall(x)[0])\n",
    "df_full.title.value_counts()"
   ]
  },
  {
   "cell_type": "code",
   "execution_count": 19,
   "metadata": {
    "collapsed": false
   },
   "outputs": [
    {
     "name": "stderr",
     "output_type": "stream",
     "text": [
      "D:\\Anaconda2\\lib\\site-packages\\ipykernel\\__main__.py:8: SettingWithCopyWarning: \n",
      "A value is trying to be set on a copy of a slice from a DataFrame\n",
      "\n",
      "See the caveats in the documentation: http://pandas.pydata.org/pandas-docs/stable/indexing.html#indexing-view-versus-copy\n",
      "D:\\Anaconda2\\lib\\site-packages\\ipykernel\\__main__.py:9: SettingWithCopyWarning: \n",
      "A value is trying to be set on a copy of a slice from a DataFrame\n",
      "\n",
      "See the caveats in the documentation: http://pandas.pydata.org/pandas-docs/stable/indexing.html#indexing-view-versus-copy\n",
      "D:\\Anaconda2\\lib\\site-packages\\ipykernel\\__main__.py:10: SettingWithCopyWarning: \n",
      "A value is trying to be set on a copy of a slice from a DataFrame\n",
      "\n",
      "See the caveats in the documentation: http://pandas.pydata.org/pandas-docs/stable/indexing.html#indexing-view-versus-copy\n"
     ]
    },
    {
     "data": {
      "image/png": "[encoded data removed]",
      "text/plain": [
       "<matplotlib.figure.Figure at 0xe4215c0>"
      ]
     },
     "metadata": {},
     "output_type": "display_data"
    }
   ],
   "source": [
    "#观察各个头衔（title）的幸存率,并重新分为几个较少的类别\n",
    "\n",
    "#plot\n",
    "fig, ax = plt.subplots(figsize = (15, 5))\n",
    "sns.barplot('title','Survived', ci = None, data = df_full[- df_full.Survived.isnull()], alpha = alpha, ax = ax)\n",
    "\n",
    "#rename\n",
    "df_full.title[df_full.title.isin(['Ms', 'Mlle'])] = 'Miss'\n",
    "df_full.title[df_full.title == 'Mme'] = 'Mrs'\n",
    "df_full.title[df_full.title.isin([ 'Don', 'Rev', 'Dr', 'Major', 'Lady', 'Sir', 'Col', 'Capt', \\\n",
    "                                  'the Countess', 'Jonkheer', 'Dona'])] = 'rare title'"
   ]
  },
  {
   "cell_type": "markdown",
   "metadata": {},
   "source": [
    "## create a feature, deck"
   ]
  },
  {
   "cell_type": "code",
   "execution_count": 20,
   "metadata": {
    "collapsed": false
   },
   "outputs": [],
   "source": [
    "deck = df_full[- df_full.Cabin.isnull()].Cabin.map(lambda x: re.compile('[A-Z]').findall(x)[0])\n",
    "_ = df_full.set_value(df_full.index, 'Deck', deck)\n",
    "del deck\n",
    "df_full.Deck.fillna('Unknow', inplace = True)"
   ]
  },
  {
   "cell_type": "markdown",
   "metadata": {},
   "source": [
    "## create a feature, family_num"
   ]
  },
  {
   "cell_type": "code",
   "execution_count": 21,
   "metadata": {
    "collapsed": false
   },
   "outputs": [],
   "source": [
    "df_full['family_num'] = df_full.SibSp + df_full.Parch + 1"
   ]
  },
  {
   "cell_type": "markdown",
   "metadata": {},
   "source": [
    "##  create a feature, family_size"
   ]
  },
  {
   "cell_type": "code",
   "execution_count": 22,
   "metadata": {
    "collapsed": false
   },
   "outputs": [],
   "source": [
    "df_full['family_size'] = 'M'\n",
    "_ = df_full.set_value(df_full.family_num < 2, 'family_size', 'S')\n",
    "_ = df_full.set_value(df_full.family_num > 4, 'family_size', 'L')"
   ]
  },
  {
   "cell_type": "markdown",
   "metadata": {},
   "source": [
    "## predict Age"
   ]
  },
  {
   "cell_type": "code",
   "execution_count": 23,
   "metadata": {
    "collapsed": false
   },
   "outputs": [
    {
     "data": {
      "text/html": [
       "<div>\n",
       "<table border=\"1\" class=\"dataframe\">\n",
       "  <thead>\n",
       "    <tr style=\"text-align: right;\">\n",
       "      <th></th>\n",
       "      <th>Age</th>\n",
       "      <th>Cabin</th>\n",
       "      <th>Embarked</th>\n",
       "      <th>Fare</th>\n",
       "      <th>Name</th>\n",
       "      <th>Parch</th>\n",
       "      <th>PassengerId</th>\n",
       "      <th>Pclass</th>\n",
       "      <th>Sex</th>\n",
       "      <th>SibSp</th>\n",
       "      <th>Survived</th>\n",
       "      <th>Ticket</th>\n",
       "      <th>family_size</th>\n",
       "      <th>title</th>\n",
       "      <th>Deck</th>\n",
       "      <th>family_num</th>\n",
       "    </tr>\n",
       "  </thead>\n",
       "  <tbody>\n",
       "    <tr>\n",
       "      <th>0</th>\n",
       "      <td>22.0</td>\n",
       "      <td>NaN</td>\n",
       "      <td>S</td>\n",
       "      <td>7.2500</td>\n",
       "      <td>Braund, Mr. Owen Harris</td>\n",
       "      <td>0</td>\n",
       "      <td>1</td>\n",
       "      <td>3</td>\n",
       "      <td>male</td>\n",
       "      <td>1</td>\n",
       "      <td>0.0</td>\n",
       "      <td>A/5 21171</td>\n",
       "      <td>M</td>\n",
       "      <td>Mr</td>\n",
       "      <td>Unknow</td>\n",
       "      <td>2</td>\n",
       "    </tr>\n",
       "    <tr>\n",
       "      <th>1</th>\n",
       "      <td>38.0</td>\n",
       "      <td>C85</td>\n",
       "      <td>C</td>\n",
       "      <td>71.2833</td>\n",
       "      <td>Cumings, Mrs. John Bradley (Florence Briggs Th...</td>\n",
       "      <td>0</td>\n",
       "      <td>2</td>\n",
       "      <td>1</td>\n",
       "      <td>female</td>\n",
       "      <td>1</td>\n",
       "      <td>1.0</td>\n",
       "      <td>PC 17599</td>\n",
       "      <td>M</td>\n",
       "      <td>Mrs</td>\n",
       "      <td>C</td>\n",
       "      <td>2</td>\n",
       "    </tr>\n",
       "    <tr>\n",
       "      <th>2</th>\n",
       "      <td>26.0</td>\n",
       "      <td>NaN</td>\n",
       "      <td>S</td>\n",
       "      <td>7.9250</td>\n",
       "      <td>Heikkinen, Miss. Laina</td>\n",
       "      <td>0</td>\n",
       "      <td>3</td>\n",
       "      <td>3</td>\n",
       "      <td>female</td>\n",
       "      <td>0</td>\n",
       "      <td>1.0</td>\n",
       "      <td>STON/O2. 3101282</td>\n",
       "      <td>S</td>\n",
       "      <td>Miss</td>\n",
       "      <td>Unknow</td>\n",
       "      <td>1</td>\n",
       "    </tr>\n",
       "    <tr>\n",
       "      <th>3</th>\n",
       "      <td>35.0</td>\n",
       "      <td>C123</td>\n",
       "      <td>S</td>\n",
       "      <td>53.1000</td>\n",
       "      <td>Futrelle, Mrs. Jacques Heath (Lily May Peel)</td>\n",
       "      <td>0</td>\n",
       "      <td>4</td>\n",
       "      <td>1</td>\n",
       "      <td>female</td>\n",
       "      <td>1</td>\n",
       "      <td>1.0</td>\n",
       "      <td>113803</td>\n",
       "      <td>M</td>\n",
       "      <td>Mrs</td>\n",
       "      <td>C</td>\n",
       "      <td>2</td>\n",
       "    </tr>\n",
       "    <tr>\n",
       "      <th>4</th>\n",
       "      <td>35.0</td>\n",
       "      <td>NaN</td>\n",
       "      <td>S</td>\n",
       "      <td>8.0500</td>\n",
       "      <td>Allen, Mr. William Henry</td>\n",
       "      <td>0</td>\n",
       "      <td>5</td>\n",
       "      <td>3</td>\n",
       "      <td>male</td>\n",
       "      <td>0</td>\n",
       "      <td>0.0</td>\n",
       "      <td>373450</td>\n",
       "      <td>S</td>\n",
       "      <td>Mr</td>\n",
       "      <td>Unknow</td>\n",
       "      <td>1</td>\n",
       "    </tr>\n",
       "  </tbody>\n",
       "</table>\n",
       "</div>"
      ],
      "text/plain": [
       "    Age Cabin Embarked     Fare  \\\n",
       "0  22.0   NaN        S   7.2500   \n",
       "1  38.0   C85        C  71.2833   \n",
       "2  26.0   NaN        S   7.9250   \n",
       "3  35.0  C123        S  53.1000   \n",
       "4  35.0   NaN        S   8.0500   \n",
       "\n",
       "                                                Name  Parch  PassengerId  \\\n",
       "0                            Braund, Mr. Owen Harris      0            1   \n",
       "1  Cumings, Mrs. John Bradley (Florence Briggs Th...      0            2   \n",
       "2                             Heikkinen, Miss. Laina      0            3   \n",
       "3       Futrelle, Mrs. Jacques Heath (Lily May Peel)      0            4   \n",
       "4                           Allen, Mr. William Henry      0            5   \n",
       "\n",
       "   Pclass     Sex  SibSp  Survived            Ticket family_size title  \\\n",
       "0       3    male      1       0.0         A/5 21171           M    Mr   \n",
       "1       1  female      1       1.0          PC 17599           M   Mrs   \n",
       "2       3  female      0       1.0  STON/O2. 3101282           S  Miss   \n",
       "3       1  female      1       1.0            113803           M   Mrs   \n",
       "4       3    male      0       0.0            373450           S    Mr   \n",
       "\n",
       "     Deck  family_num  \n",
       "0  Unknow           2  \n",
       "1       C           2  \n",
       "2  Unknow           1  \n",
       "3       C           2  \n",
       "4  Unknow           1  "
      ]
     },
     "execution_count": 23,
     "metadata": {},
     "output_type": "execute_result"
    }
   ],
   "source": [
    "df_full.head()"
   ]
  },
  {
   "cell_type": "code",
   "execution_count": 24,
   "metadata": {
    "collapsed": false
   },
   "outputs": [],
   "source": [
    "from sklearn.preprocessing import StandardScaler\n",
    "fare_scaler = StandardScaler()\n",
    "df_full['Norm_fare'] = Series(fare_scaler.fit_transform(df_full.Fare.reshape(-1, 1)).reshape(-1))"
   ]
  },
  {
   "cell_type": "code",
   "execution_count": 25,
   "metadata": {
    "collapsed": false
   },
   "outputs": [],
   "source": [
    "df_full = pd.get_dummies(df_full, columns = ['Embarked', 'Pclass',  'title', 'Deck', 'family_size'])\n",
    "df_full.drop(['Cabin', 'Fare', 'Name', 'PassengerId', 'Ticket', 'family_num'], axis = 1, inplace = True)\n",
    "df_full.Sex = np.where(df_full.Sex == 'male', 1, 0)"
   ]
  },
  {
   "cell_type": "code",
   "execution_count": 26,
   "metadata": {
    "collapsed": false
   },
   "outputs": [
    {
     "data": {
      "text/html": [
       "<div>\n",
       "<table border=\"1\" class=\"dataframe\">\n",
       "  <thead>\n",
       "    <tr style=\"text-align: right;\">\n",
       "      <th></th>\n",
       "      <th>Age</th>\n",
       "      <th>Parch</th>\n",
       "      <th>Sex</th>\n",
       "      <th>SibSp</th>\n",
       "      <th>Survived</th>\n",
       "      <th>Norm_fare</th>\n",
       "      <th>Embarked_C</th>\n",
       "      <th>Embarked_Q</th>\n",
       "      <th>Embarked_S</th>\n",
       "      <th>Pclass_1</th>\n",
       "      <th>...</th>\n",
       "      <th>Deck_C</th>\n",
       "      <th>Deck_D</th>\n",
       "      <th>Deck_E</th>\n",
       "      <th>Deck_F</th>\n",
       "      <th>Deck_G</th>\n",
       "      <th>Deck_T</th>\n",
       "      <th>Deck_Unknow</th>\n",
       "      <th>family_size_L</th>\n",
       "      <th>family_size_M</th>\n",
       "      <th>family_size_S</th>\n",
       "    </tr>\n",
       "  </thead>\n",
       "  <tbody>\n",
       "    <tr>\n",
       "      <th>0</th>\n",
       "      <td>22.0</td>\n",
       "      <td>0</td>\n",
       "      <td>1</td>\n",
       "      <td>1</td>\n",
       "      <td>0.0</td>\n",
       "      <td>-0.503176</td>\n",
       "      <td>0.0</td>\n",
       "      <td>0.0</td>\n",
       "      <td>1.0</td>\n",
       "      <td>0.0</td>\n",
       "      <td>...</td>\n",
       "      <td>0.0</td>\n",
       "      <td>0.0</td>\n",
       "      <td>0.0</td>\n",
       "      <td>0.0</td>\n",
       "      <td>0.0</td>\n",
       "      <td>0.0</td>\n",
       "      <td>1.0</td>\n",
       "      <td>0.0</td>\n",
       "      <td>1.0</td>\n",
       "      <td>0.0</td>\n",
       "    </tr>\n",
       "    <tr>\n",
       "      <th>1</th>\n",
       "      <td>38.0</td>\n",
       "      <td>0</td>\n",
       "      <td>0</td>\n",
       "      <td>1</td>\n",
       "      <td>1.0</td>\n",
       "      <td>0.734809</td>\n",
       "      <td>1.0</td>\n",
       "      <td>0.0</td>\n",
       "      <td>0.0</td>\n",
       "      <td>1.0</td>\n",
       "      <td>...</td>\n",
       "      <td>1.0</td>\n",
       "      <td>0.0</td>\n",
       "      <td>0.0</td>\n",
       "      <td>0.0</td>\n",
       "      <td>0.0</td>\n",
       "      <td>0.0</td>\n",
       "      <td>0.0</td>\n",
       "      <td>0.0</td>\n",
       "      <td>1.0</td>\n",
       "      <td>0.0</td>\n",
       "    </tr>\n",
       "    <tr>\n",
       "      <th>2</th>\n",
       "      <td>26.0</td>\n",
       "      <td>0</td>\n",
       "      <td>0</td>\n",
       "      <td>0</td>\n",
       "      <td>1.0</td>\n",
       "      <td>-0.490126</td>\n",
       "      <td>0.0</td>\n",
       "      <td>0.0</td>\n",
       "      <td>1.0</td>\n",
       "      <td>0.0</td>\n",
       "      <td>...</td>\n",
       "      <td>0.0</td>\n",
       "      <td>0.0</td>\n",
       "      <td>0.0</td>\n",
       "      <td>0.0</td>\n",
       "      <td>0.0</td>\n",
       "      <td>0.0</td>\n",
       "      <td>1.0</td>\n",
       "      <td>0.0</td>\n",
       "      <td>0.0</td>\n",
       "      <td>1.0</td>\n",
       "    </tr>\n",
       "    <tr>\n",
       "      <th>3</th>\n",
       "      <td>35.0</td>\n",
       "      <td>0</td>\n",
       "      <td>0</td>\n",
       "      <td>1</td>\n",
       "      <td>1.0</td>\n",
       "      <td>0.383263</td>\n",
       "      <td>0.0</td>\n",
       "      <td>0.0</td>\n",
       "      <td>1.0</td>\n",
       "      <td>1.0</td>\n",
       "      <td>...</td>\n",
       "      <td>1.0</td>\n",
       "      <td>0.0</td>\n",
       "      <td>0.0</td>\n",
       "      <td>0.0</td>\n",
       "      <td>0.0</td>\n",
       "      <td>0.0</td>\n",
       "      <td>0.0</td>\n",
       "      <td>0.0</td>\n",
       "      <td>1.0</td>\n",
       "      <td>0.0</td>\n",
       "    </tr>\n",
       "    <tr>\n",
       "      <th>4</th>\n",
       "      <td>35.0</td>\n",
       "      <td>0</td>\n",
       "      <td>1</td>\n",
       "      <td>0</td>\n",
       "      <td>0.0</td>\n",
       "      <td>-0.487709</td>\n",
       "      <td>0.0</td>\n",
       "      <td>0.0</td>\n",
       "      <td>1.0</td>\n",
       "      <td>0.0</td>\n",
       "      <td>...</td>\n",
       "      <td>0.0</td>\n",
       "      <td>0.0</td>\n",
       "      <td>0.0</td>\n",
       "      <td>0.0</td>\n",
       "      <td>0.0</td>\n",
       "      <td>0.0</td>\n",
       "      <td>1.0</td>\n",
       "      <td>0.0</td>\n",
       "      <td>0.0</td>\n",
       "      <td>1.0</td>\n",
       "    </tr>\n",
       "  </tbody>\n",
       "</table>\n",
       "<p>5 rows × 29 columns</p>\n",
       "</div>"
      ],
      "text/plain": [
       "    Age  Parch  Sex  SibSp  Survived  Norm_fare  Embarked_C  Embarked_Q  \\\n",
       "0  22.0      0    1      1       0.0  -0.503176         0.0         0.0   \n",
       "1  38.0      0    0      1       1.0   0.734809         1.0         0.0   \n",
       "2  26.0      0    0      0       1.0  -0.490126         0.0         0.0   \n",
       "3  35.0      0    0      1       1.0   0.383263         0.0         0.0   \n",
       "4  35.0      0    1      0       0.0  -0.487709         0.0         0.0   \n",
       "\n",
       "   Embarked_S  Pclass_1      ...        Deck_C  Deck_D  Deck_E  Deck_F  \\\n",
       "0         1.0       0.0      ...           0.0     0.0     0.0     0.0   \n",
       "1         0.0       1.0      ...           1.0     0.0     0.0     0.0   \n",
       "2         1.0       0.0      ...           0.0     0.0     0.0     0.0   \n",
       "3         1.0       1.0      ...           1.0     0.0     0.0     0.0   \n",
       "4         1.0       0.0      ...           0.0     0.0     0.0     0.0   \n",
       "\n",
       "   Deck_G  Deck_T  Deck_Unknow  family_size_L  family_size_M  family_size_S  \n",
       "0     0.0     0.0          1.0            0.0            1.0            0.0  \n",
       "1     0.0     0.0          0.0            0.0            1.0            0.0  \n",
       "2     0.0     0.0          1.0            0.0            0.0            1.0  \n",
       "3     0.0     0.0          0.0            0.0            1.0            0.0  \n",
       "4     0.0     0.0          1.0            0.0            0.0            1.0  \n",
       "\n",
       "[5 rows x 29 columns]"
      ]
     },
     "execution_count": 26,
     "metadata": {},
     "output_type": "execute_result"
    }
   ],
   "source": [
    "df_full.head()"
   ]
  },
  {
   "cell_type": "code",
   "execution_count": 27,
   "metadata": {
    "collapsed": true
   },
   "outputs": [],
   "source": [
    "X = df_full[-df_full.Age.isnull()].drop('Age', axis = 1)\n",
    "y = df_full[-df_full.Age.isnull()].Age"
   ]
  },
  {
   "cell_type": "code",
   "execution_count": 28,
   "metadata": {
    "collapsed": true
   },
   "outputs": [],
   "source": [
    "from sklearn.grid_search import GridSearchCV\n",
    "def get_model(estimator, parameters, X_train, y_train, scoring = None):\n",
    "    model = GridSearchCV(estimator, parameters, scoring = scoring)\n",
    "    model.fit(X_train, y_train)\n",
    "    return model.best_estimator_"
   ]
  },
  {
   "cell_type": "code",
   "execution_count": 29,
   "metadata": {
    "collapsed": false
   },
   "outputs": [],
   "source": [
    "import xgboost as xgb\n",
    "\n",
    "XGB = xgb.XGBRegressor(seed = 1031)\n",
    "paramaeters = {'reg_alpha': np.linspace(.1, 1., 5), 'reg_lambda': np.linspace(.1, 3., 5)}\n",
    "\n",
    "best_age_XGB_model = get_model(XGB, paramaeters, X, y)\n",
    "age_predict = best_age_XGB_model.predict(df_full[df_full.Age.isnull()].drop('Age', axis = 1))"
   ]
  },
  {
   "cell_type": "code",
   "execution_count": 30,
   "metadata": {
    "collapsed": false
   },
   "outputs": [
    {
     "data": {
      "text/plain": [
       "<matplotlib.axes._subplots.AxesSubplot at 0xc374668>"
      ]
     },
     "execution_count": 30,
     "metadata": {},
     "output_type": "execute_result"
    },
    {
     "data": {
      "image/png": "[encoded data removed]",
      "text/plain": [
       "<matplotlib.figure.Figure at 0xc1e14e0>"
      ]
     },
     "metadata": {},
     "output_type": "display_data"
    }
   ],
   "source": [
    "fig, ax = plt.subplots(figsize = (15, 5))\n",
    "sns.kdeplot(df_full.Age, color = 'r', ax = ax, alpha = alpha, label = 'Before')\n",
    "_ = df_full.set_value(df_full.Age.isnull(), 'Age', age_predict)\n",
    "sns.kdeplot(df_full.Age, color = 'b', ax = ax, alpha = alpha, label = 'After')"
   ]
  },
  {
   "cell_type": "markdown",
   "metadata": {},
   "source": [
    "# 4.Build model"
   ]
  },
  {
   "cell_type": "code",
   "execution_count": 90,
   "metadata": {
    "collapsed": true
   },
   "outputs": [],
   "source": [
    "from sklearn import externals"
   ]
  },
  {
   "cell_type": "code",
   "execution_count": 31,
   "metadata": {
    "collapsed": true
   },
   "outputs": [],
   "source": [
    "age_scaler = StandardScaler()\n",
    "df_full['Norm_age'] = Series(age_scaler.fit_transform(df_full.Age.reshape(-1, 1)).reshape(-1))\n",
    "df_full.drop('Age', axis = 1, inplace=True)"
   ]
  },
  {
   "cell_type": "code",
   "execution_count": 36,
   "metadata": {
    "collapsed": true
   },
   "outputs": [],
   "source": [
    "from sklearn.cross_validation import train_test_split\n",
    "X = df_full[:891].drop('Survived', axis = 1)\n",
    "y = df_full[:891].Survived\n",
    "X_train, X_test, y_train, y_test = train_test_split(X, y, random_state = 1031)\n",
    "X_to_predict = df_full[891:].drop('Survived', axis = 1)"
   ]
  },
  {
   "cell_type": "code",
   "execution_count": 33,
   "metadata": {
    "collapsed": false
   },
   "outputs": [],
   "source": [
    "from sklearn.learning_curve import learning_curve\n",
    "\n",
    "def plot_learning_curve(estimator, title, X, y, ylim=None, cv=None,\n",
    "                        n_jobs=1, train_sizes=np.linspace(.1, 1.0, 5)):\n",
    "    plt.figure(figsize = (10, 6))\n",
    "    plt.title(title)\n",
    "    if ylim is not None:\n",
    "        plt.ylim(*ylim)\n",
    "    plt.xlabel(\"Training examples\")\n",
    "    plt.ylabel(\"Score\")\n",
    "    train_sizes, train_scores, test_scores = learning_curve(\n",
    "        estimator, X, y, cv=cv, n_jobs=n_jobs, train_sizes=train_sizes)\n",
    "    train_scores_mean = np.mean(train_scores, axis=1)\n",
    "    train_scores_std = np.std(train_scores, axis=1)\n",
    "    test_scores_mean = np.mean(test_scores, axis=1)\n",
    "    test_scores_std = np.std(test_scores, axis=1)\n",
    "#    plt.grid()\n",
    "\n",
    "    plt.fill_between(train_sizes, train_scores_mean - train_scores_std,\n",
    "                     train_scores_mean + train_scores_std, alpha=0.1,\n",
    "                     color=\"r\")\n",
    "    plt.fill_between(train_sizes, test_scores_mean - test_scores_std,\n",
    "                     test_scores_mean + test_scores_std, alpha=0.1, color=\"g\")\n",
    "    plt.plot(train_sizes, train_scores_mean, 'o-', color=\"r\",\n",
    "             label=\"Training score\")\n",
    "    plt.plot(train_sizes, test_scores_mean, 'o-', color=\"g\",\n",
    "             label=\"Cross-validation score\")\n",
    "\n",
    "    plt.legend(loc=\"best\")\n",
    "    return plt"
   ]
  },
  {
   "cell_type": "markdown",
   "metadata": {},
   "source": [
    "## KNN"
   ]
  },
  {
   "cell_type": "code",
   "execution_count": 44,
   "metadata": {
    "collapsed": true
   },
   "outputs": [],
   "source": [
    "from sklearn.neighbors import KNeighborsClassifier\n",
    "\n",
    "KNN = KNeighborsClassifier()\n",
    "paramaeters = {'n_neighbors':[3, 4, 5], 'p': [1, 2]}\n",
    "\n",
    "clf_knn_trian = get_model(KNN, paramaeters, X_train, y_train)"
   ]
  },
  {
   "cell_type": "code",
   "execution_count": 50,
   "metadata": {
    "collapsed": false,
    "scrolled": false
   },
   "outputs": [
    {
     "name": "stdout",
     "output_type": "stream",
     "text": [
      "0.793721973094\n",
      "KNeighborsClassifier(algorithm='auto', leaf_size=30, metric='minkowski',\n",
      "           metric_params=None, n_jobs=1, n_neighbors=4, p=1,\n",
      "           weights='uniform')\n"
     ]
    },
    {
     "data": {
      "text/plain": [
       "<module 'matplotlib.pyplot' from 'D:\\Anaconda2\\lib\\site-packages\\matplotlib\\pyplot.pyc'>"
      ]
     },
     "execution_count": 50,
     "metadata": {},
     "output_type": "execute_result"
    },
    {
     "data": {
      "image/png": "[encoded data removed]",
      "text/plain": [
       "<matplotlib.figure.Figure at 0x109995f8>"
      ]
     },
     "metadata": {},
     "output_type": "display_data"
    }
   ],
   "source": [
    "print(clf_knn_trian.score(X_test, y_test))\n",
    "print(clf_knn_trian)\n",
    "plot_learning_curve(clf_knn_trian, 'KNN', X, y, cv = 4)"
   ]
  },
  {
   "cell_type": "code",
   "execution_count": 62,
   "metadata": {
    "collapsed": false
   },
   "outputs": [],
   "source": [
    "clf_knn_trian.fit(X, y)\n",
    "clf_knn = clf_knn_trian"
   ]
  },
  {
   "cell_type": "code",
   "execution_count": 93,
   "metadata": {
    "collapsed": false
   },
   "outputs": [
    {
     "data": {
      "text/plain": [
       "['D:/Jupyter/kaggle/Titanic/clf/clf_knn.pkl',\n",
       " 'D:/Jupyter/kaggle/Titanic/clf/clf_knn.pkl_01.npy',\n",
       " 'D:/Jupyter/kaggle/Titanic/clf/clf_knn.pkl_02.npy',\n",
       " 'D:/Jupyter/kaggle/Titanic/clf/clf_knn.pkl_03.npy',\n",
       " 'D:/Jupyter/kaggle/Titanic/clf/clf_knn.pkl_04.npy',\n",
       " 'D:/Jupyter/kaggle/Titanic/clf/clf_knn.pkl_05.npy',\n",
       " 'D:/Jupyter/kaggle/Titanic/clf/clf_knn.pkl_06.npy',\n",
       " 'D:/Jupyter/kaggle/Titanic/clf/clf_knn.pkl_07.npy',\n",
       " 'D:/Jupyter/kaggle/Titanic/clf/clf_knn.pkl_08.npy',\n",
       " 'D:/Jupyter/kaggle/Titanic/clf/clf_knn.pkl_09.npy']"
      ]
     },
     "execution_count": 93,
     "metadata": {},
     "output_type": "execute_result"
    }
   ],
   "source": [
    "externals.joblib.dump(clf_knn, 'D:/Jupyter/kaggle/Titanic/clf/clf_knn.pkl')"
   ]
  },
  {
   "cell_type": "markdown",
   "metadata": {},
   "source": [
    "## Random Forest"
   ]
  },
  {
   "cell_type": "code",
   "execution_count": 78,
   "metadata": {
    "collapsed": true
   },
   "outputs": [],
   "source": [
    "from sklearn.ensemble import RandomForestClassifier\n",
    "\n",
    "RFC = RandomForestClassifier(random_state=1031, oob_score=True, min_samples_split=5)\n",
    "parameters = {'criterion': ['gini', 'entropy'], 'n_estimators': [100, 300, 500]}\n",
    "\n",
    "clf_rfc_train = get_model(RFC, parameters, X_train, y_train)"
   ]
  },
  {
   "cell_type": "code",
   "execution_count": 79,
   "metadata": {
    "collapsed": false
   },
   "outputs": [
    {
     "name": "stdout",
     "output_type": "stream",
     "text": [
      "0.80269058296\n",
      "RandomForestClassifier(bootstrap=True, class_weight=None, criterion='entropy',\n",
      "            max_depth=None, max_features='auto', max_leaf_nodes=None,\n",
      "            min_samples_leaf=1, min_samples_split=5,\n",
      "            min_weight_fraction_leaf=0.0, n_estimators=300, n_jobs=1,\n",
      "            oob_score=True, random_state=1031, verbose=0, warm_start=False)\n"
     ]
    },
    {
     "data": {
      "text/plain": [
       "<module 'matplotlib.pyplot' from 'D:\\Anaconda2\\lib\\site-packages\\matplotlib\\pyplot.pyc'>"
      ]
     },
     "execution_count": 79,
     "metadata": {},
     "output_type": "execute_result"
    },
    {
     "data": {
      "image/png": "[encoded data removed]",
      "text/plain": [
       "<matplotlib.figure.Figure at 0x106ee208>"
      ]
     },
     "metadata": {},
     "output_type": "display_data"
    }
   ],
   "source": [
    "print(clf_rfc_train.score(X_test, y_test))\n",
    "print(clf_rfc_train)\n",
    "plot_learning_curve(clf_rfc_train, 'RFC', X, y, cv = 4)"
   ]
  },
  {
   "cell_type": "code",
   "execution_count": 80,
   "metadata": {
    "collapsed": false
   },
   "outputs": [
    {
     "name": "stdout",
     "output_type": "stream",
     "text": [
      "0.830527497194\n"
     ]
    }
   ],
   "source": [
    "clf_rfc_train.fit(X, y)\n",
    "clf_rfc = clf_rfc_train\n",
    "print clf_rfc.oob_score_"
   ]
  },
  {
   "cell_type": "code",
   "execution_count": 81,
   "metadata": {
    "collapsed": false
   },
   "outputs": [
    {
     "name": "stdout",
     "output_type": "stream",
     "text": [
      "[ 0.00028152  0.00134645  0.00143465  0.00249855  0.00589885  0.00637416\n",
      "  0.00654929  0.00889086  0.00904867  0.00946986  0.01070858  0.01176487\n",
      "  0.01235307  0.0140747   0.01683888  0.01854379  0.01975968  0.02193318\n",
      "  0.0222034   0.02855959  0.03032726  0.03190847  0.03248286  0.04297476\n",
      "  0.11175533  0.11590923  0.18386664  0.22224285]\n"
     ]
    },
    {
     "data": {
      "image/png": "[encoded data removed]",
      "text/plain": [
       "<matplotlib.figure.Figure at 0x104e5da0>"
      ]
     },
     "metadata": {},
     "output_type": "display_data"
    }
   ],
   "source": [
    "fig, ax = plt.subplots(figsize = (10, 6))\n",
    "sns.barplot(clf_rfc.feature_importances_, X.columns)\n",
    "print(np.sort(clf_rfc.feature_importances_))"
   ]
  },
  {
   "cell_type": "code",
   "execution_count": 82,
   "metadata": {
    "collapsed": true
   },
   "outputs": [],
   "source": [
    "cols = X.columns[clf_rfc.feature_importances_ > 0.01]"
   ]
  },
  {
   "cell_type": "code",
   "execution_count": 83,
   "metadata": {
    "collapsed": false
   },
   "outputs": [],
   "source": [
    "parameters = {'criterion': ['entropy'], 'n_estimators': [300]}\n",
    "\n",
    "clf_rfc_train2 = get_model(RFC, parameters, X_train[cols], y_train)"
   ]
  },
  {
   "cell_type": "code",
   "execution_count": 84,
   "metadata": {
    "collapsed": false
   },
   "outputs": [
    {
     "name": "stdout",
     "output_type": "stream",
     "text": [
      "0.798206278027\n",
      "RandomForestClassifier(bootstrap=True, class_weight=None, criterion='entropy',\n",
      "            max_depth=None, max_features='auto', max_leaf_nodes=None,\n",
      "            min_samples_leaf=1, min_samples_split=5,\n",
      "            min_weight_fraction_leaf=0.0, n_estimators=300, n_jobs=1,\n",
      "            oob_score=True, random_state=1031, verbose=0, warm_start=False)\n"
     ]
    },
    {
     "data": {
      "text/plain": [
       "<module 'matplotlib.pyplot' from 'D:\\Anaconda2\\lib\\site-packages\\matplotlib\\pyplot.pyc'>"
      ]
     },
     "execution_count": 84,
     "metadata": {},
     "output_type": "execute_result"
    },
    {
     "data": {
      "image/png": "[encoded data removed]",
      "text/plain": [
       "<matplotlib.figure.Figure at 0x12e6fe10>"
      ]
     },
     "metadata": {},
     "output_type": "display_data"
    }
   ],
   "source": [
    "print(clf_rfc_train2.score(X_test[cols], y_test))\n",
    "print(clf_rfc_train2)\n",
    "plot_learning_curve(clf_rfc_train2, 'RFC', X[cols], y, cv = 4)"
   ]
  },
  {
   "cell_type": "code",
   "execution_count": 88,
   "metadata": {
    "collapsed": false
   },
   "outputs": [
    {
     "name": "stdout",
     "output_type": "stream",
     "text": [
      "0.826038159371\n"
     ]
    }
   ],
   "source": [
    "clf_rfc_train2.fit(X[cols], y)\n",
    "clf_rfc2 = clf_rfc_train2\n",
    "print clf_rfc2.oob_score_"
   ]
  },
  {
   "cell_type": "code",
   "execution_count": 94,
   "metadata": {
    "collapsed": false
   },
   "outputs": [
    {
     "data": {
      "text/plain": [
       "['clf/clf_rfc.pkl',\n",
       " 'clf/clf_rfc.pkl_01.npy',\n",
       " 'clf/clf_rfc.pkl_02.npy',\n",
       " 'clf/clf_rfc.pkl_03.npy',\n",
       " 'clf/clf_rfc.pkl_04.npy',\n",
       " 'clf/clf_rfc.pkl_05.npy',\n",
       " 'clf/clf_rfc.pkl_06.npy',\n",
       " 'clf/clf_rfc.pkl_07.npy',\n",
       " 'clf/clf_rfc.pkl_08.npy',\n",
       " 'clf/clf_rfc.pkl_09.npy',\n",
       " 'clf/clf_rfc.pkl_10.npy',\n",
       " 'clf/clf_rfc.pkl_11.npy',\n",
       " 'clf/clf_rfc.pkl_12.npy',\n",
       " 'clf/clf_rfc.pkl_13.npy',\n",
       " 'clf/clf_rfc.pkl_14.npy',\n",
       " 'clf/clf_rfc.pkl_15.npy',\n",
       " 'clf/clf_rfc.pkl_16.npy',\n",
       " 'clf/clf_rfc.pkl_17.npy',\n",
       " 'clf/clf_rfc.pkl_18.npy',\n",
       " 'clf/clf_rfc.pkl_19.npy',\n",
       " 'clf/clf_rfc.pkl_20.npy',\n",
       " 'clf/clf_rfc.pkl_21.npy',\n",
       " 'clf/clf_rfc.pkl_22.npy',\n",
       " 'clf/clf_rfc.pkl_23.npy',\n",
       " 'clf/clf_rfc.pkl_24.npy',\n",
       " 'clf/clf_rfc.pkl_25.npy',\n",
       " 'clf/clf_rfc.pkl_26.npy',\n",
       " 'clf/clf_rfc.pkl_27.npy',\n",
       " 'clf/clf_rfc.pkl_28.npy',\n",
       " 'clf/clf_rfc.pkl_29.npy',\n",
       " 'clf/clf_rfc.pkl_30.npy',\n",
       " 'clf/clf_rfc.pkl_31.npy',\n",
       " 'clf/clf_rfc.pkl_32.npy',\n",
       " 'clf/clf_rfc.pkl_33.npy',\n",
       " 'clf/clf_rfc.pkl_34.npy',\n",
       " 'clf/clf_rfc.pkl_35.npy',\n",
       " 'clf/clf_rfc.pkl_36.npy',\n",
       " 'clf/clf_rfc.pkl_37.npy',\n",
       " 'clf/clf_rfc.pkl_38.npy',\n",
       " 'clf/clf_rfc.pkl_39.npy',\n",
       " 'clf/clf_rfc.pkl_40.npy',\n",
       " 'clf/clf_rfc.pkl_41.npy',\n",
       " 'clf/clf_rfc.pkl_42.npy',\n",
       " 'clf/clf_rfc.pkl_43.npy',\n",
       " 'clf/clf_rfc.pkl_44.npy',\n",
       " 'clf/clf_rfc.pkl_45.npy',\n",
       " 'clf/clf_rfc.pkl_46.npy',\n",
       " 'clf/clf_rfc.pkl_47.npy',\n",
       " 'clf/clf_rfc.pkl_48.npy',\n",
       " 'clf/clf_rfc.pkl_49.npy',\n",
       " 'clf/clf_rfc.pkl_50.npy',\n",
       " 'clf/clf_rfc.pkl_51.npy',\n",
       " 'clf/clf_rfc.pkl_52.npy',\n",
       " 'clf/clf_rfc.pkl_53.npy',\n",
       " 'clf/clf_rfc.pkl_54.npy',\n",
       " 'clf/clf_rfc.pkl_55.npy',\n",
       " 'clf/clf_rfc.pkl_56.npy',\n",
       " 'clf/clf_rfc.pkl_57.npy',\n",
       " 'clf/clf_rfc.pkl_58.npy',\n",
       " 'clf/clf_rfc.pkl_59.npy',\n",
       " 'clf/clf_rfc.pkl_60.npy',\n",
       " 'clf/clf_rfc.pkl_61.npy',\n",
       " 'clf/clf_rfc.pkl_62.npy',\n",
       " 'clf/clf_rfc.pkl_63.npy',\n",
       " 'clf/clf_rfc.pkl_64.npy',\n",
       " 'clf/clf_rfc.pkl_65.npy',\n",
       " 'clf/clf_rfc.pkl_66.npy',\n",
       " 'clf/clf_rfc.pkl_67.npy',\n",
       " 'clf/clf_rfc.pkl_68.npy',\n",
       " 'clf/clf_rfc.pkl_69.npy',\n",
       " 'clf/clf_rfc.pkl_70.npy',\n",
       " 'clf/clf_rfc.pkl_71.npy',\n",
       " 'clf/clf_rfc.pkl_72.npy',\n",
       " 'clf/clf_rfc.pkl_73.npy',\n",
       " 'clf/clf_rfc.pkl_74.npy',\n",
       " 'clf/clf_rfc.pkl_75.npy',\n",
       " 'clf/clf_rfc.pkl_76.npy',\n",
       " 'clf/clf_rfc.pkl_77.npy',\n",
       " 'clf/clf_rfc.pkl_78.npy',\n",
       " 'clf/clf_rfc.pkl_79.npy',\n",
       " 'clf/clf_rfc.pkl_80.npy',\n",
       " 'clf/clf_rfc.pkl_81.npy',\n",
       " 'clf/clf_rfc.pkl_82.npy',\n",
       " 'clf/clf_rfc.pkl_83.npy',\n",
       " 'clf/clf_rfc.pkl_84.npy',\n",
       " 'clf/clf_rfc.pkl_85.npy',\n",
       " 'clf/clf_rfc.pkl_86.npy',\n",
       " 'clf/clf_rfc.pkl_87.npy',\n",
       " 'clf/clf_rfc.pkl_88.npy',\n",
       " 'clf/clf_rfc.pkl_89.npy',\n",
       " 'clf/clf_rfc.pkl_90.npy',\n",
       " 'clf/clf_rfc.pkl_91.npy',\n",
       " 'clf/clf_rfc.pkl_92.npy',\n",
       " 'clf/clf_rfc.pkl_93.npy',\n",
       " 'clf/clf_rfc.pkl_94.npy',\n",
       " 'clf/clf_rfc.pkl_95.npy',\n",
       " 'clf/clf_rfc.pkl_96.npy',\n",
       " 'clf/clf_rfc.pkl_97.npy',\n",
       " 'clf/clf_rfc.pkl_98.npy',\n",
       " 'clf/clf_rfc.pkl_99.npy',\n",
       " 'clf/clf_rfc.pkl_100.npy',\n",
       " 'clf/clf_rfc.pkl_101.npy',\n",
       " 'clf/clf_rfc.pkl_102.npy',\n",
       " 'clf/clf_rfc.pkl_103.npy',\n",
       " 'clf/clf_rfc.pkl_104.npy',\n",
       " 'clf/clf_rfc.pkl_105.npy',\n",
       " 'clf/clf_rfc.pkl_106.npy',\n",
       " 'clf/clf_rfc.pkl_107.npy',\n",
       " 'clf/clf_rfc.pkl_108.npy',\n",
       " 'clf/clf_rfc.pkl_109.npy',\n",
       " 'clf/clf_rfc.pkl_110.npy',\n",
       " 'clf/clf_rfc.pkl_111.npy',\n",
       " 'clf/clf_rfc.pkl_112.npy',\n",
       " 'clf/clf_rfc.pkl_113.npy',\n",
       " 'clf/clf_rfc.pkl_114.npy',\n",
       " 'clf/clf_rfc.pkl_115.npy',\n",
       " 'clf/clf_rfc.pkl_116.npy',\n",
       " 'clf/clf_rfc.pkl_117.npy',\n",
       " 'clf/clf_rfc.pkl_118.npy',\n",
       " 'clf/clf_rfc.pkl_119.npy',\n",
       " 'clf/clf_rfc.pkl_120.npy',\n",
       " 'clf/clf_rfc.pkl_121.npy',\n",
       " 'clf/clf_rfc.pkl_122.npy',\n",
       " 'clf/clf_rfc.pkl_123.npy',\n",
       " 'clf/clf_rfc.pkl_124.npy',\n",
       " 'clf/clf_rfc.pkl_125.npy',\n",
       " 'clf/clf_rfc.pkl_126.npy',\n",
       " 'clf/clf_rfc.pkl_127.npy',\n",
       " 'clf/clf_rfc.pkl_128.npy',\n",
       " 'clf/clf_rfc.pkl_129.npy',\n",
       " 'clf/clf_rfc.pkl_130.npy',\n",
       " 'clf/clf_rfc.pkl_131.npy',\n",
       " 'clf/clf_rfc.pkl_132.npy',\n",
       " 'clf/clf_rfc.pkl_133.npy',\n",
       " 'clf/clf_rfc.pkl_134.npy',\n",
       " 'clf/clf_rfc.pkl_135.npy',\n",
       " 'clf/clf_rfc.pkl_136.npy',\n",
       " 'clf/clf_rfc.pkl_137.npy',\n",
       " 'clf/clf_rfc.pkl_138.npy',\n",
       " 'clf/clf_rfc.pkl_139.npy',\n",
       " 'clf/clf_rfc.pkl_140.npy',\n",
       " 'clf/clf_rfc.pkl_141.npy',\n",
       " 'clf/clf_rfc.pkl_142.npy',\n",
       " 'clf/clf_rfc.pkl_143.npy',\n",
       " 'clf/clf_rfc.pkl_144.npy',\n",
       " 'clf/clf_rfc.pkl_145.npy',\n",
       " 'clf/clf_rfc.pkl_146.npy',\n",
       " 'clf/clf_rfc.pkl_147.npy',\n",
       " 'clf/clf_rfc.pkl_148.npy',\n",
       " 'clf/clf_rfc.pkl_149.npy',\n",
       " 'clf/clf_rfc.pkl_150.npy',\n",
       " 'clf/clf_rfc.pkl_151.npy',\n",
       " 'clf/clf_rfc.pkl_152.npy',\n",
       " 'clf/clf_rfc.pkl_153.npy',\n",
       " 'clf/clf_rfc.pkl_154.npy',\n",
       " 'clf/clf_rfc.pkl_155.npy',\n",
       " 'clf/clf_rfc.pkl_156.npy',\n",
       " 'clf/clf_rfc.pkl_157.npy',\n",
       " 'clf/clf_rfc.pkl_158.npy',\n",
       " 'clf/clf_rfc.pkl_159.npy',\n",
       " 'clf/clf_rfc.pkl_160.npy',\n",
       " 'clf/clf_rfc.pkl_161.npy',\n",
       " 'clf/clf_rfc.pkl_162.npy',\n",
       " 'clf/clf_rfc.pkl_163.npy',\n",
       " 'clf/clf_rfc.pkl_164.npy',\n",
       " 'clf/clf_rfc.pkl_165.npy',\n",
       " 'clf/clf_rfc.pkl_166.npy',\n",
       " 'clf/clf_rfc.pkl_167.npy',\n",
       " 'clf/clf_rfc.pkl_168.npy',\n",
       " 'clf/clf_rfc.pkl_169.npy',\n",
       " 'clf/clf_rfc.pkl_170.npy',\n",
       " 'clf/clf_rfc.pkl_171.npy',\n",
       " 'clf/clf_rfc.pkl_172.npy',\n",
       " 'clf/clf_rfc.pkl_173.npy',\n",
       " 'clf/clf_rfc.pkl_174.npy',\n",
       " 'clf/clf_rfc.pkl_175.npy',\n",
       " 'clf/clf_rfc.pkl_176.npy',\n",
       " 'clf/clf_rfc.pkl_177.npy',\n",
       " 'clf/clf_rfc.pkl_178.npy',\n",
       " 'clf/clf_rfc.pkl_179.npy',\n",
       " 'clf/clf_rfc.pkl_180.npy',\n",
       " 'clf/clf_rfc.pkl_181.npy',\n",
       " 'clf/clf_rfc.pkl_182.npy',\n",
       " 'clf/clf_rfc.pkl_183.npy',\n",
       " 'clf/clf_rfc.pkl_184.npy',\n",
       " 'clf/clf_rfc.pkl_185.npy',\n",
       " 'clf/clf_rfc.pkl_186.npy',\n",
       " 'clf/clf_rfc.pkl_187.npy',\n",
       " 'clf/clf_rfc.pkl_188.npy',\n",
       " 'clf/clf_rfc.pkl_189.npy',\n",
       " 'clf/clf_rfc.pkl_190.npy',\n",
       " 'clf/clf_rfc.pkl_191.npy',\n",
       " 'clf/clf_rfc.pkl_192.npy',\n",
       " 'clf/clf_rfc.pkl_193.npy',\n",
       " 'clf/clf_rfc.pkl_194.npy',\n",
       " 'clf/clf_rfc.pkl_195.npy',\n",
       " 'clf/clf_rfc.pkl_196.npy',\n",
       " 'clf/clf_rfc.pkl_197.npy',\n",
       " 'clf/clf_rfc.pkl_198.npy',\n",
       " 'clf/clf_rfc.pkl_199.npy',\n",
       " 'clf/clf_rfc.pkl_200.npy',\n",
       " 'clf/clf_rfc.pkl_201.npy',\n",
       " 'clf/clf_rfc.pkl_202.npy',\n",
       " 'clf/clf_rfc.pkl_203.npy',\n",
       " 'clf/clf_rfc.pkl_204.npy',\n",
       " 'clf/clf_rfc.pkl_205.npy',\n",
       " 'clf/clf_rfc.pkl_206.npy',\n",
       " 'clf/clf_rfc.pkl_207.npy',\n",
       " 'clf/clf_rfc.pkl_208.npy',\n",
       " 'clf/clf_rfc.pkl_209.npy',\n",
       " 'clf/clf_rfc.pkl_210.npy',\n",
       " 'clf/clf_rfc.pkl_211.npy',\n",
       " 'clf/clf_rfc.pkl_212.npy',\n",
       " 'clf/clf_rfc.pkl_213.npy',\n",
       " 'clf/clf_rfc.pkl_214.npy',\n",
       " 'clf/clf_rfc.pkl_215.npy',\n",
       " 'clf/clf_rfc.pkl_216.npy',\n",
       " 'clf/clf_rfc.pkl_217.npy',\n",
       " 'clf/clf_rfc.pkl_218.npy',\n",
       " 'clf/clf_rfc.pkl_219.npy',\n",
       " 'clf/clf_rfc.pkl_220.npy',\n",
       " 'clf/clf_rfc.pkl_221.npy',\n",
       " 'clf/clf_rfc.pkl_222.npy',\n",
       " 'clf/clf_rfc.pkl_223.npy',\n",
       " 'clf/clf_rfc.pkl_224.npy',\n",
       " 'clf/clf_rfc.pkl_225.npy',\n",
       " 'clf/clf_rfc.pkl_226.npy',\n",
       " 'clf/clf_rfc.pkl_227.npy',\n",
       " 'clf/clf_rfc.pkl_228.npy',\n",
       " 'clf/clf_rfc.pkl_229.npy',\n",
       " 'clf/clf_rfc.pkl_230.npy',\n",
       " 'clf/clf_rfc.pkl_231.npy',\n",
       " 'clf/clf_rfc.pkl_232.npy',\n",
       " 'clf/clf_rfc.pkl_233.npy',\n",
       " 'clf/clf_rfc.pkl_234.npy',\n",
       " 'clf/clf_rfc.pkl_235.npy',\n",
       " 'clf/clf_rfc.pkl_236.npy',\n",
       " 'clf/clf_rfc.pkl_237.npy',\n",
       " 'clf/clf_rfc.pkl_238.npy',\n",
       " 'clf/clf_rfc.pkl_239.npy',\n",
       " 'clf/clf_rfc.pkl_240.npy',\n",
       " 'clf/clf_rfc.pkl_241.npy',\n",
       " 'clf/clf_rfc.pkl_242.npy',\n",
       " 'clf/clf_rfc.pkl_243.npy',\n",
       " 'clf/clf_rfc.pkl_244.npy',\n",
       " 'clf/clf_rfc.pkl_245.npy',\n",
       " 'clf/clf_rfc.pkl_246.npy',\n",
       " 'clf/clf_rfc.pkl_247.npy',\n",
       " 'clf/clf_rfc.pkl_248.npy',\n",
       " 'clf/clf_rfc.pkl_249.npy',\n",
       " 'clf/clf_rfc.pkl_250.npy',\n",
       " 'clf/clf_rfc.pkl_251.npy',\n",
       " 'clf/clf_rfc.pkl_252.npy',\n",
       " 'clf/clf_rfc.pkl_253.npy',\n",
       " 'clf/clf_rfc.pkl_254.npy',\n",
       " 'clf/clf_rfc.pkl_255.npy',\n",
       " 'clf/clf_rfc.pkl_256.npy',\n",
       " 'clf/clf_rfc.pkl_257.npy',\n",
       " 'clf/clf_rfc.pkl_258.npy',\n",
       " 'clf/clf_rfc.pkl_259.npy',\n",
       " 'clf/clf_rfc.pkl_260.npy',\n",
       " 'clf/clf_rfc.pkl_261.npy',\n",
       " 'clf/clf_rfc.pkl_262.npy',\n",
       " 'clf/clf_rfc.pkl_263.npy',\n",
       " 'clf/clf_rfc.pkl_264.npy',\n",
       " 'clf/clf_rfc.pkl_265.npy',\n",
       " 'clf/clf_rfc.pkl_266.npy',\n",
       " 'clf/clf_rfc.pkl_267.npy',\n",
       " 'clf/clf_rfc.pkl_268.npy',\n",
       " 'clf/clf_rfc.pkl_269.npy',\n",
       " 'clf/clf_rfc.pkl_270.npy',\n",
       " 'clf/clf_rfc.pkl_271.npy',\n",
       " 'clf/clf_rfc.pkl_272.npy',\n",
       " 'clf/clf_rfc.pkl_273.npy',\n",
       " 'clf/clf_rfc.pkl_274.npy',\n",
       " 'clf/clf_rfc.pkl_275.npy',\n",
       " 'clf/clf_rfc.pkl_276.npy',\n",
       " 'clf/clf_rfc.pkl_277.npy',\n",
       " 'clf/clf_rfc.pkl_278.npy',\n",
       " 'clf/clf_rfc.pkl_279.npy',\n",
       " 'clf/clf_rfc.pkl_280.npy',\n",
       " 'clf/clf_rfc.pkl_281.npy',\n",
       " 'clf/clf_rfc.pkl_282.npy',\n",
       " 'clf/clf_rfc.pkl_283.npy',\n",
       " 'clf/clf_rfc.pkl_284.npy',\n",
       " 'clf/clf_rfc.pkl_285.npy',\n",
       " 'clf/clf_rfc.pkl_286.npy',\n",
       " 'clf/clf_rfc.pkl_287.npy',\n",
       " 'clf/clf_rfc.pkl_288.npy',\n",
       " 'clf/clf_rfc.pkl_289.npy',\n",
       " 'clf/clf_rfc.pkl_290.npy',\n",
       " 'clf/clf_rfc.pkl_291.npy',\n",
       " 'clf/clf_rfc.pkl_292.npy',\n",
       " 'clf/clf_rfc.pkl_293.npy',\n",
       " 'clf/clf_rfc.pkl_294.npy',\n",
       " 'clf/clf_rfc.pkl_295.npy',\n",
       " 'clf/clf_rfc.pkl_296.npy',\n",
       " 'clf/clf_rfc.pkl_297.npy',\n",
       " 'clf/clf_rfc.pkl_298.npy',\n",
       " 'clf/clf_rfc.pkl_299.npy',\n",
       " 'clf/clf_rfc.pkl_300.npy',\n",
       " 'clf/clf_rfc.pkl_301.npy',\n",
       " 'clf/clf_rfc.pkl_302.npy',\n",
       " 'clf/clf_rfc.pkl_303.npy',\n",
       " 'clf/clf_rfc.pkl_304.npy',\n",
       " 'clf/clf_rfc.pkl_305.npy',\n",
       " 'clf/clf_rfc.pkl_306.npy',\n",
       " 'clf/clf_rfc.pkl_307.npy',\n",
       " 'clf/clf_rfc.pkl_308.npy',\n",
       " 'clf/clf_rfc.pkl_309.npy',\n",
       " 'clf/clf_rfc.pkl_310.npy',\n",
       " 'clf/clf_rfc.pkl_311.npy',\n",
       " 'clf/clf_rfc.pkl_312.npy',\n",
       " 'clf/clf_rfc.pkl_313.npy',\n",
       " 'clf/clf_rfc.pkl_314.npy',\n",
       " 'clf/clf_rfc.pkl_315.npy',\n",
       " 'clf/clf_rfc.pkl_316.npy',\n",
       " 'clf/clf_rfc.pkl_317.npy',\n",
       " 'clf/clf_rfc.pkl_318.npy',\n",
       " 'clf/clf_rfc.pkl_319.npy',\n",
       " 'clf/clf_rfc.pkl_320.npy',\n",
       " 'clf/clf_rfc.pkl_321.npy',\n",
       " 'clf/clf_rfc.pkl_322.npy',\n",
       " 'clf/clf_rfc.pkl_323.npy',\n",
       " 'clf/clf_rfc.pkl_324.npy',\n",
       " 'clf/clf_rfc.pkl_325.npy',\n",
       " 'clf/clf_rfc.pkl_326.npy',\n",
       " 'clf/clf_rfc.pkl_327.npy',\n",
       " 'clf/clf_rfc.pkl_328.npy',\n",
       " 'clf/clf_rfc.pkl_329.npy',\n",
       " 'clf/clf_rfc.pkl_330.npy',\n",
       " 'clf/clf_rfc.pkl_331.npy',\n",
       " 'clf/clf_rfc.pkl_332.npy',\n",
       " 'clf/clf_rfc.pkl_333.npy',\n",
       " 'clf/clf_rfc.pkl_334.npy',\n",
       " 'clf/clf_rfc.pkl_335.npy',\n",
       " 'clf/clf_rfc.pkl_336.npy',\n",
       " 'clf/clf_rfc.pkl_337.npy',\n",
       " 'clf/clf_rfc.pkl_338.npy',\n",
       " 'clf/clf_rfc.pkl_339.npy',\n",
       " 'clf/clf_rfc.pkl_340.npy',\n",
       " 'clf/clf_rfc.pkl_341.npy',\n",
       " 'clf/clf_rfc.pkl_342.npy',\n",
       " 'clf/clf_rfc.pkl_343.npy',\n",
       " 'clf/clf_rfc.pkl_344.npy',\n",
       " 'clf/clf_rfc.pkl_345.npy',\n",
       " 'clf/clf_rfc.pkl_346.npy',\n",
       " 'clf/clf_rfc.pkl_347.npy',\n",
       " 'clf/clf_rfc.pkl_348.npy',\n",
       " 'clf/clf_rfc.pkl_349.npy',\n",
       " 'clf/clf_rfc.pkl_350.npy',\n",
       " 'clf/clf_rfc.pkl_351.npy',\n",
       " 'clf/clf_rfc.pkl_352.npy',\n",
       " 'clf/clf_rfc.pkl_353.npy',\n",
       " 'clf/clf_rfc.pkl_354.npy',\n",
       " 'clf/clf_rfc.pkl_355.npy',\n",
       " 'clf/clf_rfc.pkl_356.npy',\n",
       " 'clf/clf_rfc.pkl_357.npy',\n",
       " 'clf/clf_rfc.pkl_358.npy',\n",
       " 'clf/clf_rfc.pkl_359.npy',\n",
       " 'clf/clf_rfc.pkl_360.npy',\n",
       " 'clf/clf_rfc.pkl_361.npy',\n",
       " 'clf/clf_rfc.pkl_362.npy',\n",
       " 'clf/clf_rfc.pkl_363.npy',\n",
       " 'clf/clf_rfc.pkl_364.npy',\n",
       " 'clf/clf_rfc.pkl_365.npy',\n",
       " 'clf/clf_rfc.pkl_366.npy',\n",
       " 'clf/clf_rfc.pkl_367.npy',\n",
       " 'clf/clf_rfc.pkl_368.npy',\n",
       " 'clf/clf_rfc.pkl_369.npy',\n",
       " 'clf/clf_rfc.pkl_370.npy',\n",
       " 'clf/clf_rfc.pkl_371.npy',\n",
       " 'clf/clf_rfc.pkl_372.npy',\n",
       " 'clf/clf_rfc.pkl_373.npy',\n",
       " 'clf/clf_rfc.pkl_374.npy',\n",
       " 'clf/clf_rfc.pkl_375.npy',\n",
       " 'clf/clf_rfc.pkl_376.npy',\n",
       " 'clf/clf_rfc.pkl_377.npy',\n",
       " 'clf/clf_rfc.pkl_378.npy',\n",
       " 'clf/clf_rfc.pkl_379.npy',\n",
       " 'clf/clf_rfc.pkl_380.npy',\n",
       " 'clf/clf_rfc.pkl_381.npy',\n",
       " 'clf/clf_rfc.pkl_382.npy',\n",
       " 'clf/clf_rfc.pkl_383.npy',\n",
       " 'clf/clf_rfc.pkl_384.npy',\n",
       " 'clf/clf_rfc.pkl_385.npy',\n",
       " 'clf/clf_rfc.pkl_386.npy',\n",
       " 'clf/clf_rfc.pkl_387.npy',\n",
       " 'clf/clf_rfc.pkl_388.npy',\n",
       " 'clf/clf_rfc.pkl_389.npy',\n",
       " 'clf/clf_rfc.pkl_390.npy',\n",
       " 'clf/clf_rfc.pkl_391.npy',\n",
       " 'clf/clf_rfc.pkl_392.npy',\n",
       " 'clf/clf_rfc.pkl_393.npy',\n",
       " 'clf/clf_rfc.pkl_394.npy',\n",
       " 'clf/clf_rfc.pkl_395.npy',\n",
       " 'clf/clf_rfc.pkl_396.npy',\n",
       " 'clf/clf_rfc.pkl_397.npy',\n",
       " 'clf/clf_rfc.pkl_398.npy',\n",
       " 'clf/clf_rfc.pkl_399.npy',\n",
       " 'clf/clf_rfc.pkl_400.npy',\n",
       " 'clf/clf_rfc.pkl_401.npy',\n",
       " 'clf/clf_rfc.pkl_402.npy',\n",
       " 'clf/clf_rfc.pkl_403.npy',\n",
       " 'clf/clf_rfc.pkl_404.npy',\n",
       " 'clf/clf_rfc.pkl_405.npy',\n",
       " 'clf/clf_rfc.pkl_406.npy',\n",
       " 'clf/clf_rfc.pkl_407.npy',\n",
       " 'clf/clf_rfc.pkl_408.npy',\n",
       " 'clf/clf_rfc.pkl_409.npy',\n",
       " 'clf/clf_rfc.pkl_410.npy',\n",
       " 'clf/clf_rfc.pkl_411.npy',\n",
       " 'clf/clf_rfc.pkl_412.npy',\n",
       " 'clf/clf_rfc.pkl_413.npy',\n",
       " 'clf/clf_rfc.pkl_414.npy',\n",
       " 'clf/clf_rfc.pkl_415.npy',\n",
       " 'clf/clf_rfc.pkl_416.npy',\n",
       " 'clf/clf_rfc.pkl_417.npy',\n",
       " 'clf/clf_rfc.pkl_418.npy',\n",
       " 'clf/clf_rfc.pkl_419.npy',\n",
       " 'clf/clf_rfc.pkl_420.npy',\n",
       " 'clf/clf_rfc.pkl_421.npy',\n",
       " 'clf/clf_rfc.pkl_422.npy',\n",
       " 'clf/clf_rfc.pkl_423.npy',\n",
       " 'clf/clf_rfc.pkl_424.npy',\n",
       " 'clf/clf_rfc.pkl_425.npy',\n",
       " 'clf/clf_rfc.pkl_426.npy',\n",
       " 'clf/clf_rfc.pkl_427.npy',\n",
       " 'clf/clf_rfc.pkl_428.npy',\n",
       " 'clf/clf_rfc.pkl_429.npy',\n",
       " 'clf/clf_rfc.pkl_430.npy',\n",
       " 'clf/clf_rfc.pkl_431.npy',\n",
       " 'clf/clf_rfc.pkl_432.npy',\n",
       " 'clf/clf_rfc.pkl_433.npy',\n",
       " 'clf/clf_rfc.pkl_434.npy',\n",
       " 'clf/clf_rfc.pkl_435.npy',\n",
       " 'clf/clf_rfc.pkl_436.npy',\n",
       " 'clf/clf_rfc.pkl_437.npy',\n",
       " 'clf/clf_rfc.pkl_438.npy',\n",
       " 'clf/clf_rfc.pkl_439.npy',\n",
       " 'clf/clf_rfc.pkl_440.npy',\n",
       " 'clf/clf_rfc.pkl_441.npy',\n",
       " 'clf/clf_rfc.pkl_442.npy',\n",
       " 'clf/clf_rfc.pkl_443.npy',\n",
       " 'clf/clf_rfc.pkl_444.npy',\n",
       " 'clf/clf_rfc.pkl_445.npy',\n",
       " 'clf/clf_rfc.pkl_446.npy',\n",
       " 'clf/clf_rfc.pkl_447.npy',\n",
       " 'clf/clf_rfc.pkl_448.npy',\n",
       " 'clf/clf_rfc.pkl_449.npy',\n",
       " 'clf/clf_rfc.pkl_450.npy',\n",
       " 'clf/clf_rfc.pkl_451.npy',\n",
       " 'clf/clf_rfc.pkl_452.npy',\n",
       " 'clf/clf_rfc.pkl_453.npy',\n",
       " 'clf/clf_rfc.pkl_454.npy',\n",
       " 'clf/clf_rfc.pkl_455.npy',\n",
       " 'clf/clf_rfc.pkl_456.npy',\n",
       " 'clf/clf_rfc.pkl_457.npy',\n",
       " 'clf/clf_rfc.pkl_458.npy',\n",
       " 'clf/clf_rfc.pkl_459.npy',\n",
       " 'clf/clf_rfc.pkl_460.npy',\n",
       " 'clf/clf_rfc.pkl_461.npy',\n",
       " 'clf/clf_rfc.pkl_462.npy',\n",
       " 'clf/clf_rfc.pkl_463.npy',\n",
       " 'clf/clf_rfc.pkl_464.npy',\n",
       " 'clf/clf_rfc.pkl_465.npy',\n",
       " 'clf/clf_rfc.pkl_466.npy',\n",
       " 'clf/clf_rfc.pkl_467.npy',\n",
       " 'clf/clf_rfc.pkl_468.npy',\n",
       " 'clf/clf_rfc.pkl_469.npy',\n",
       " 'clf/clf_rfc.pkl_470.npy',\n",
       " 'clf/clf_rfc.pkl_471.npy',\n",
       " 'clf/clf_rfc.pkl_472.npy',\n",
       " 'clf/clf_rfc.pkl_473.npy',\n",
       " 'clf/clf_rfc.pkl_474.npy',\n",
       " 'clf/clf_rfc.pkl_475.npy',\n",
       " 'clf/clf_rfc.pkl_476.npy',\n",
       " 'clf/clf_rfc.pkl_477.npy',\n",
       " 'clf/clf_rfc.pkl_478.npy',\n",
       " 'clf/clf_rfc.pkl_479.npy',\n",
       " 'clf/clf_rfc.pkl_480.npy',\n",
       " 'clf/clf_rfc.pkl_481.npy',\n",
       " 'clf/clf_rfc.pkl_482.npy',\n",
       " 'clf/clf_rfc.pkl_483.npy',\n",
       " 'clf/clf_rfc.pkl_484.npy',\n",
       " 'clf/clf_rfc.pkl_485.npy',\n",
       " 'clf/clf_rfc.pkl_486.npy',\n",
       " 'clf/clf_rfc.pkl_487.npy',\n",
       " 'clf/clf_rfc.pkl_488.npy',\n",
       " 'clf/clf_rfc.pkl_489.npy',\n",
       " 'clf/clf_rfc.pkl_490.npy',\n",
       " 'clf/clf_rfc.pkl_491.npy',\n",
       " 'clf/clf_rfc.pkl_492.npy',\n",
       " 'clf/clf_rfc.pkl_493.npy',\n",
       " 'clf/clf_rfc.pkl_494.npy',\n",
       " 'clf/clf_rfc.pkl_495.npy',\n",
       " 'clf/clf_rfc.pkl_496.npy',\n",
       " 'clf/clf_rfc.pkl_497.npy',\n",
       " 'clf/clf_rfc.pkl_498.npy',\n",
       " 'clf/clf_rfc.pkl_499.npy',\n",
       " 'clf/clf_rfc.pkl_500.npy',\n",
       " 'clf/clf_rfc.pkl_501.npy',\n",
       " 'clf/clf_rfc.pkl_502.npy',\n",
       " 'clf/clf_rfc.pkl_503.npy',\n",
       " 'clf/clf_rfc.pkl_504.npy',\n",
       " 'clf/clf_rfc.pkl_505.npy',\n",
       " 'clf/clf_rfc.pkl_506.npy',\n",
       " 'clf/clf_rfc.pkl_507.npy',\n",
       " 'clf/clf_rfc.pkl_508.npy',\n",
       " 'clf/clf_rfc.pkl_509.npy',\n",
       " 'clf/clf_rfc.pkl_510.npy',\n",
       " 'clf/clf_rfc.pkl_511.npy',\n",
       " 'clf/clf_rfc.pkl_512.npy',\n",
       " 'clf/clf_rfc.pkl_513.npy',\n",
       " 'clf/clf_rfc.pkl_514.npy',\n",
       " 'clf/clf_rfc.pkl_515.npy',\n",
       " 'clf/clf_rfc.pkl_516.npy',\n",
       " 'clf/clf_rfc.pkl_517.npy',\n",
       " 'clf/clf_rfc.pkl_518.npy',\n",
       " 'clf/clf_rfc.pkl_519.npy',\n",
       " 'clf/clf_rfc.pkl_520.npy',\n",
       " 'clf/clf_rfc.pkl_521.npy',\n",
       " 'clf/clf_rfc.pkl_522.npy',\n",
       " 'clf/clf_rfc.pkl_523.npy',\n",
       " 'clf/clf_rfc.pkl_524.npy',\n",
       " 'clf/clf_rfc.pkl_525.npy',\n",
       " 'clf/clf_rfc.pkl_526.npy',\n",
       " 'clf/clf_rfc.pkl_527.npy',\n",
       " 'clf/clf_rfc.pkl_528.npy',\n",
       " 'clf/clf_rfc.pkl_529.npy',\n",
       " 'clf/clf_rfc.pkl_530.npy',\n",
       " 'clf/clf_rfc.pkl_531.npy',\n",
       " 'clf/clf_rfc.pkl_532.npy',\n",
       " 'clf/clf_rfc.pkl_533.npy',\n",
       " 'clf/clf_rfc.pkl_534.npy',\n",
       " 'clf/clf_rfc.pkl_535.npy',\n",
       " 'clf/clf_rfc.pkl_536.npy',\n",
       " 'clf/clf_rfc.pkl_537.npy',\n",
       " 'clf/clf_rfc.pkl_538.npy',\n",
       " 'clf/clf_rfc.pkl_539.npy',\n",
       " 'clf/clf_rfc.pkl_540.npy',\n",
       " 'clf/clf_rfc.pkl_541.npy',\n",
       " 'clf/clf_rfc.pkl_542.npy',\n",
       " 'clf/clf_rfc.pkl_543.npy',\n",
       " 'clf/clf_rfc.pkl_544.npy',\n",
       " 'clf/clf_rfc.pkl_545.npy',\n",
       " 'clf/clf_rfc.pkl_546.npy',\n",
       " 'clf/clf_rfc.pkl_547.npy',\n",
       " 'clf/clf_rfc.pkl_548.npy',\n",
       " 'clf/clf_rfc.pkl_549.npy',\n",
       " 'clf/clf_rfc.pkl_550.npy',\n",
       " 'clf/clf_rfc.pkl_551.npy',\n",
       " 'clf/clf_rfc.pkl_552.npy',\n",
       " 'clf/clf_rfc.pkl_553.npy',\n",
       " 'clf/clf_rfc.pkl_554.npy',\n",
       " 'clf/clf_rfc.pkl_555.npy',\n",
       " 'clf/clf_rfc.pkl_556.npy',\n",
       " 'clf/clf_rfc.pkl_557.npy',\n",
       " 'clf/clf_rfc.pkl_558.npy',\n",
       " 'clf/clf_rfc.pkl_559.npy',\n",
       " 'clf/clf_rfc.pkl_560.npy',\n",
       " 'clf/clf_rfc.pkl_561.npy',\n",
       " 'clf/clf_rfc.pkl_562.npy',\n",
       " 'clf/clf_rfc.pkl_563.npy',\n",
       " 'clf/clf_rfc.pkl_564.npy',\n",
       " 'clf/clf_rfc.pkl_565.npy',\n",
       " 'clf/clf_rfc.pkl_566.npy',\n",
       " 'clf/clf_rfc.pkl_567.npy',\n",
       " 'clf/clf_rfc.pkl_568.npy',\n",
       " 'clf/clf_rfc.pkl_569.npy',\n",
       " 'clf/clf_rfc.pkl_570.npy',\n",
       " 'clf/clf_rfc.pkl_571.npy',\n",
       " 'clf/clf_rfc.pkl_572.npy',\n",
       " 'clf/clf_rfc.pkl_573.npy',\n",
       " 'clf/clf_rfc.pkl_574.npy',\n",
       " 'clf/clf_rfc.pkl_575.npy',\n",
       " 'clf/clf_rfc.pkl_576.npy',\n",
       " 'clf/clf_rfc.pkl_577.npy',\n",
       " 'clf/clf_rfc.pkl_578.npy',\n",
       " 'clf/clf_rfc.pkl_579.npy',\n",
       " 'clf/clf_rfc.pkl_580.npy',\n",
       " 'clf/clf_rfc.pkl_581.npy',\n",
       " 'clf/clf_rfc.pkl_582.npy',\n",
       " 'clf/clf_rfc.pkl_583.npy',\n",
       " 'clf/clf_rfc.pkl_584.npy',\n",
       " 'clf/clf_rfc.pkl_585.npy',\n",
       " 'clf/clf_rfc.pkl_586.npy',\n",
       " 'clf/clf_rfc.pkl_587.npy',\n",
       " 'clf/clf_rfc.pkl_588.npy',\n",
       " 'clf/clf_rfc.pkl_589.npy',\n",
       " 'clf/clf_rfc.pkl_590.npy',\n",
       " 'clf/clf_rfc.pkl_591.npy',\n",
       " 'clf/clf_rfc.pkl_592.npy',\n",
       " 'clf/clf_rfc.pkl_593.npy',\n",
       " 'clf/clf_rfc.pkl_594.npy',\n",
       " 'clf/clf_rfc.pkl_595.npy',\n",
       " 'clf/clf_rfc.pkl_596.npy',\n",
       " 'clf/clf_rfc.pkl_597.npy',\n",
       " 'clf/clf_rfc.pkl_598.npy',\n",
       " 'clf/clf_rfc.pkl_599.npy',\n",
       " 'clf/clf_rfc.pkl_600.npy',\n",
       " 'clf/clf_rfc.pkl_601.npy',\n",
       " 'clf/clf_rfc.pkl_602.npy',\n",
       " 'clf/clf_rfc.pkl_603.npy',\n",
       " 'clf/clf_rfc.pkl_604.npy',\n",
       " 'clf/clf_rfc.pkl_605.npy',\n",
       " 'clf/clf_rfc.pkl_606.npy',\n",
       " 'clf/clf_rfc.pkl_607.npy',\n",
       " 'clf/clf_rfc.pkl_608.npy',\n",
       " 'clf/clf_rfc.pkl_609.npy',\n",
       " 'clf/clf_rfc.pkl_610.npy',\n",
       " 'clf/clf_rfc.pkl_611.npy',\n",
       " 'clf/clf_rfc.pkl_612.npy',\n",
       " 'clf/clf_rfc.pkl_613.npy',\n",
       " 'clf/clf_rfc.pkl_614.npy',\n",
       " 'clf/clf_rfc.pkl_615.npy',\n",
       " 'clf/clf_rfc.pkl_616.npy',\n",
       " 'clf/clf_rfc.pkl_617.npy',\n",
       " 'clf/clf_rfc.pkl_618.npy',\n",
       " 'clf/clf_rfc.pkl_619.npy',\n",
       " 'clf/clf_rfc.pkl_620.npy',\n",
       " 'clf/clf_rfc.pkl_621.npy',\n",
       " 'clf/clf_rfc.pkl_622.npy',\n",
       " 'clf/clf_rfc.pkl_623.npy',\n",
       " 'clf/clf_rfc.pkl_624.npy',\n",
       " 'clf/clf_rfc.pkl_625.npy',\n",
       " 'clf/clf_rfc.pkl_626.npy',\n",
       " 'clf/clf_rfc.pkl_627.npy',\n",
       " 'clf/clf_rfc.pkl_628.npy',\n",
       " 'clf/clf_rfc.pkl_629.npy',\n",
       " 'clf/clf_rfc.pkl_630.npy',\n",
       " 'clf/clf_rfc.pkl_631.npy',\n",
       " 'clf/clf_rfc.pkl_632.npy',\n",
       " 'clf/clf_rfc.pkl_633.npy',\n",
       " 'clf/clf_rfc.pkl_634.npy',\n",
       " 'clf/clf_rfc.pkl_635.npy',\n",
       " 'clf/clf_rfc.pkl_636.npy',\n",
       " 'clf/clf_rfc.pkl_637.npy',\n",
       " 'clf/clf_rfc.pkl_638.npy',\n",
       " 'clf/clf_rfc.pkl_639.npy',\n",
       " 'clf/clf_rfc.pkl_640.npy',\n",
       " 'clf/clf_rfc.pkl_641.npy',\n",
       " 'clf/clf_rfc.pkl_642.npy',\n",
       " 'clf/clf_rfc.pkl_643.npy',\n",
       " 'clf/clf_rfc.pkl_644.npy',\n",
       " 'clf/clf_rfc.pkl_645.npy',\n",
       " 'clf/clf_rfc.pkl_646.npy',\n",
       " 'clf/clf_rfc.pkl_647.npy',\n",
       " 'clf/clf_rfc.pkl_648.npy',\n",
       " 'clf/clf_rfc.pkl_649.npy',\n",
       " 'clf/clf_rfc.pkl_650.npy',\n",
       " 'clf/clf_rfc.pkl_651.npy',\n",
       " 'clf/clf_rfc.pkl_652.npy',\n",
       " 'clf/clf_rfc.pkl_653.npy',\n",
       " 'clf/clf_rfc.pkl_654.npy',\n",
       " 'clf/clf_rfc.pkl_655.npy',\n",
       " 'clf/clf_rfc.pkl_656.npy',\n",
       " 'clf/clf_rfc.pkl_657.npy',\n",
       " 'clf/clf_rfc.pkl_658.npy',\n",
       " 'clf/clf_rfc.pkl_659.npy',\n",
       " 'clf/clf_rfc.pkl_660.npy',\n",
       " 'clf/clf_rfc.pkl_661.npy',\n",
       " 'clf/clf_rfc.pkl_662.npy',\n",
       " 'clf/clf_rfc.pkl_663.npy',\n",
       " 'clf/clf_rfc.pkl_664.npy',\n",
       " 'clf/clf_rfc.pkl_665.npy',\n",
       " 'clf/clf_rfc.pkl_666.npy',\n",
       " 'clf/clf_rfc.pkl_667.npy',\n",
       " 'clf/clf_rfc.pkl_668.npy',\n",
       " 'clf/clf_rfc.pkl_669.npy',\n",
       " 'clf/clf_rfc.pkl_670.npy',\n",
       " 'clf/clf_rfc.pkl_671.npy',\n",
       " 'clf/clf_rfc.pkl_672.npy',\n",
       " 'clf/clf_rfc.pkl_673.npy',\n",
       " 'clf/clf_rfc.pkl_674.npy',\n",
       " 'clf/clf_rfc.pkl_675.npy',\n",
       " 'clf/clf_rfc.pkl_676.npy',\n",
       " 'clf/clf_rfc.pkl_677.npy',\n",
       " 'clf/clf_rfc.pkl_678.npy',\n",
       " 'clf/clf_rfc.pkl_679.npy',\n",
       " 'clf/clf_rfc.pkl_680.npy',\n",
       " 'clf/clf_rfc.pkl_681.npy',\n",
       " 'clf/clf_rfc.pkl_682.npy',\n",
       " 'clf/clf_rfc.pkl_683.npy',\n",
       " 'clf/clf_rfc.pkl_684.npy',\n",
       " 'clf/clf_rfc.pkl_685.npy',\n",
       " 'clf/clf_rfc.pkl_686.npy',\n",
       " 'clf/clf_rfc.pkl_687.npy',\n",
       " 'clf/clf_rfc.pkl_688.npy',\n",
       " 'clf/clf_rfc.pkl_689.npy',\n",
       " 'clf/clf_rfc.pkl_690.npy',\n",
       " 'clf/clf_rfc.pkl_691.npy',\n",
       " 'clf/clf_rfc.pkl_692.npy',\n",
       " 'clf/clf_rfc.pkl_693.npy',\n",
       " 'clf/clf_rfc.pkl_694.npy',\n",
       " 'clf/clf_rfc.pkl_695.npy',\n",
       " 'clf/clf_rfc.pkl_696.npy',\n",
       " 'clf/clf_rfc.pkl_697.npy',\n",
       " 'clf/clf_rfc.pkl_698.npy',\n",
       " 'clf/clf_rfc.pkl_699.npy',\n",
       " 'clf/clf_rfc.pkl_700.npy',\n",
       " 'clf/clf_rfc.pkl_701.npy',\n",
       " 'clf/clf_rfc.pkl_702.npy',\n",
       " 'clf/clf_rfc.pkl_703.npy',\n",
       " 'clf/clf_rfc.pkl_704.npy',\n",
       " 'clf/clf_rfc.pkl_705.npy',\n",
       " 'clf/clf_rfc.pkl_706.npy',\n",
       " 'clf/clf_rfc.pkl_707.npy',\n",
       " 'clf/clf_rfc.pkl_708.npy',\n",
       " 'clf/clf_rfc.pkl_709.npy',\n",
       " 'clf/clf_rfc.pkl_710.npy',\n",
       " 'clf/clf_rfc.pkl_711.npy',\n",
       " 'clf/clf_rfc.pkl_712.npy',\n",
       " 'clf/clf_rfc.pkl_713.npy',\n",
       " 'clf/clf_rfc.pkl_714.npy',\n",
       " 'clf/clf_rfc.pkl_715.npy',\n",
       " 'clf/clf_rfc.pkl_716.npy',\n",
       " 'clf/clf_rfc.pkl_717.npy',\n",
       " 'clf/clf_rfc.pkl_718.npy',\n",
       " 'clf/clf_rfc.pkl_719.npy',\n",
       " 'clf/clf_rfc.pkl_720.npy',\n",
       " 'clf/clf_rfc.pkl_721.npy',\n",
       " 'clf/clf_rfc.pkl_722.npy',\n",
       " 'clf/clf_rfc.pkl_723.npy',\n",
       " 'clf/clf_rfc.pkl_724.npy',\n",
       " 'clf/clf_rfc.pkl_725.npy',\n",
       " 'clf/clf_rfc.pkl_726.npy',\n",
       " 'clf/clf_rfc.pkl_727.npy',\n",
       " 'clf/clf_rfc.pkl_728.npy',\n",
       " 'clf/clf_rfc.pkl_729.npy',\n",
       " 'clf/clf_rfc.pkl_730.npy',\n",
       " 'clf/clf_rfc.pkl_731.npy',\n",
       " 'clf/clf_rfc.pkl_732.npy',\n",
       " 'clf/clf_rfc.pkl_733.npy',\n",
       " 'clf/clf_rfc.pkl_734.npy',\n",
       " 'clf/clf_rfc.pkl_735.npy',\n",
       " 'clf/clf_rfc.pkl_736.npy',\n",
       " 'clf/clf_rfc.pkl_737.npy',\n",
       " 'clf/clf_rfc.pkl_738.npy',\n",
       " 'clf/clf_rfc.pkl_739.npy',\n",
       " 'clf/clf_rfc.pkl_740.npy',\n",
       " 'clf/clf_rfc.pkl_741.npy',\n",
       " 'clf/clf_rfc.pkl_742.npy',\n",
       " 'clf/clf_rfc.pkl_743.npy',\n",
       " 'clf/clf_rfc.pkl_744.npy',\n",
       " 'clf/clf_rfc.pkl_745.npy',\n",
       " 'clf/clf_rfc.pkl_746.npy',\n",
       " 'clf/clf_rfc.pkl_747.npy',\n",
       " 'clf/clf_rfc.pkl_748.npy',\n",
       " 'clf/clf_rfc.pkl_749.npy',\n",
       " 'clf/clf_rfc.pkl_750.npy',\n",
       " 'clf/clf_rfc.pkl_751.npy',\n",
       " 'clf/clf_rfc.pkl_752.npy',\n",
       " 'clf/clf_rfc.pkl_753.npy',\n",
       " 'clf/clf_rfc.pkl_754.npy',\n",
       " 'clf/clf_rfc.pkl_755.npy',\n",
       " 'clf/clf_rfc.pkl_756.npy',\n",
       " 'clf/clf_rfc.pkl_757.npy',\n",
       " 'clf/clf_rfc.pkl_758.npy',\n",
       " 'clf/clf_rfc.pkl_759.npy',\n",
       " 'clf/clf_rfc.pkl_760.npy',\n",
       " 'clf/clf_rfc.pkl_761.npy',\n",
       " 'clf/clf_rfc.pkl_762.npy',\n",
       " 'clf/clf_rfc.pkl_763.npy',\n",
       " 'clf/clf_rfc.pkl_764.npy',\n",
       " 'clf/clf_rfc.pkl_765.npy',\n",
       " 'clf/clf_rfc.pkl_766.npy',\n",
       " 'clf/clf_rfc.pkl_767.npy',\n",
       " 'clf/clf_rfc.pkl_768.npy',\n",
       " 'clf/clf_rfc.pkl_769.npy',\n",
       " 'clf/clf_rfc.pkl_770.npy',\n",
       " 'clf/clf_rfc.pkl_771.npy',\n",
       " 'clf/clf_rfc.pkl_772.npy',\n",
       " 'clf/clf_rfc.pkl_773.npy',\n",
       " 'clf/clf_rfc.pkl_774.npy',\n",
       " 'clf/clf_rfc.pkl_775.npy',\n",
       " 'clf/clf_rfc.pkl_776.npy',\n",
       " 'clf/clf_rfc.pkl_777.npy',\n",
       " 'clf/clf_rfc.pkl_778.npy',\n",
       " 'clf/clf_rfc.pkl_779.npy',\n",
       " 'clf/clf_rfc.pkl_780.npy',\n",
       " 'clf/clf_rfc.pkl_781.npy',\n",
       " 'clf/clf_rfc.pkl_782.npy',\n",
       " 'clf/clf_rfc.pkl_783.npy',\n",
       " 'clf/clf_rfc.pkl_784.npy',\n",
       " 'clf/clf_rfc.pkl_785.npy',\n",
       " 'clf/clf_rfc.pkl_786.npy',\n",
       " 'clf/clf_rfc.pkl_787.npy',\n",
       " 'clf/clf_rfc.pkl_788.npy',\n",
       " 'clf/clf_rfc.pkl_789.npy',\n",
       " 'clf/clf_rfc.pkl_790.npy',\n",
       " 'clf/clf_rfc.pkl_791.npy',\n",
       " 'clf/clf_rfc.pkl_792.npy',\n",
       " 'clf/clf_rfc.pkl_793.npy',\n",
       " 'clf/clf_rfc.pkl_794.npy',\n",
       " 'clf/clf_rfc.pkl_795.npy',\n",
       " 'clf/clf_rfc.pkl_796.npy',\n",
       " 'clf/clf_rfc.pkl_797.npy',\n",
       " 'clf/clf_rfc.pkl_798.npy',\n",
       " 'clf/clf_rfc.pkl_799.npy',\n",
       " 'clf/clf_rfc.pkl_800.npy',\n",
       " 'clf/clf_rfc.pkl_801.npy',\n",
       " 'clf/clf_rfc.pkl_802.npy',\n",
       " 'clf/clf_rfc.pkl_803.npy',\n",
       " 'clf/clf_rfc.pkl_804.npy',\n",
       " 'clf/clf_rfc.pkl_805.npy',\n",
       " 'clf/clf_rfc.pkl_806.npy',\n",
       " 'clf/clf_rfc.pkl_807.npy',\n",
       " 'clf/clf_rfc.pkl_808.npy',\n",
       " 'clf/clf_rfc.pkl_809.npy',\n",
       " 'clf/clf_rfc.pkl_810.npy',\n",
       " 'clf/clf_rfc.pkl_811.npy',\n",
       " 'clf/clf_rfc.pkl_812.npy',\n",
       " 'clf/clf_rfc.pkl_813.npy',\n",
       " 'clf/clf_rfc.pkl_814.npy',\n",
       " 'clf/clf_rfc.pkl_815.npy',\n",
       " 'clf/clf_rfc.pkl_816.npy',\n",
       " 'clf/clf_rfc.pkl_817.npy',\n",
       " 'clf/clf_rfc.pkl_818.npy',\n",
       " 'clf/clf_rfc.pkl_819.npy',\n",
       " 'clf/clf_rfc.pkl_820.npy',\n",
       " 'clf/clf_rfc.pkl_821.npy',\n",
       " 'clf/clf_rfc.pkl_822.npy',\n",
       " 'clf/clf_rfc.pkl_823.npy',\n",
       " 'clf/clf_rfc.pkl_824.npy',\n",
       " 'clf/clf_rfc.pkl_825.npy',\n",
       " 'clf/clf_rfc.pkl_826.npy',\n",
       " 'clf/clf_rfc.pkl_827.npy',\n",
       " 'clf/clf_rfc.pkl_828.npy',\n",
       " 'clf/clf_rfc.pkl_829.npy',\n",
       " 'clf/clf_rfc.pkl_830.npy',\n",
       " 'clf/clf_rfc.pkl_831.npy',\n",
       " 'clf/clf_rfc.pkl_832.npy',\n",
       " 'clf/clf_rfc.pkl_833.npy',\n",
       " 'clf/clf_rfc.pkl_834.npy',\n",
       " 'clf/clf_rfc.pkl_835.npy',\n",
       " 'clf/clf_rfc.pkl_836.npy',\n",
       " 'clf/clf_rfc.pkl_837.npy',\n",
       " 'clf/clf_rfc.pkl_838.npy',\n",
       " 'clf/clf_rfc.pkl_839.npy',\n",
       " 'clf/clf_rfc.pkl_840.npy',\n",
       " 'clf/clf_rfc.pkl_841.npy',\n",
       " 'clf/clf_rfc.pkl_842.npy',\n",
       " 'clf/clf_rfc.pkl_843.npy',\n",
       " 'clf/clf_rfc.pkl_844.npy',\n",
       " 'clf/clf_rfc.pkl_845.npy',\n",
       " 'clf/clf_rfc.pkl_846.npy',\n",
       " 'clf/clf_rfc.pkl_847.npy',\n",
       " 'clf/clf_rfc.pkl_848.npy',\n",
       " 'clf/clf_rfc.pkl_849.npy',\n",
       " 'clf/clf_rfc.pkl_850.npy',\n",
       " 'clf/clf_rfc.pkl_851.npy',\n",
       " 'clf/clf_rfc.pkl_852.npy',\n",
       " 'clf/clf_rfc.pkl_853.npy',\n",
       " 'clf/clf_rfc.pkl_854.npy',\n",
       " 'clf/clf_rfc.pkl_855.npy',\n",
       " 'clf/clf_rfc.pkl_856.npy',\n",
       " 'clf/clf_rfc.pkl_857.npy',\n",
       " 'clf/clf_rfc.pkl_858.npy',\n",
       " 'clf/clf_rfc.pkl_859.npy',\n",
       " 'clf/clf_rfc.pkl_860.npy',\n",
       " 'clf/clf_rfc.pkl_861.npy',\n",
       " 'clf/clf_rfc.pkl_862.npy',\n",
       " 'clf/clf_rfc.pkl_863.npy',\n",
       " 'clf/clf_rfc.pkl_864.npy',\n",
       " 'clf/clf_rfc.pkl_865.npy',\n",
       " 'clf/clf_rfc.pkl_866.npy',\n",
       " 'clf/clf_rfc.pkl_867.npy',\n",
       " 'clf/clf_rfc.pkl_868.npy',\n",
       " 'clf/clf_rfc.pkl_869.npy',\n",
       " 'clf/clf_rfc.pkl_870.npy',\n",
       " 'clf/clf_rfc.pkl_871.npy',\n",
       " 'clf/clf_rfc.pkl_872.npy',\n",
       " 'clf/clf_rfc.pkl_873.npy',\n",
       " 'clf/clf_rfc.pkl_874.npy',\n",
       " 'clf/clf_rfc.pkl_875.npy',\n",
       " 'clf/clf_rfc.pkl_876.npy',\n",
       " 'clf/clf_rfc.pkl_877.npy',\n",
       " 'clf/clf_rfc.pkl_878.npy',\n",
       " 'clf/clf_rfc.pkl_879.npy',\n",
       " 'clf/clf_rfc.pkl_880.npy',\n",
       " 'clf/clf_rfc.pkl_881.npy',\n",
       " 'clf/clf_rfc.pkl_882.npy',\n",
       " 'clf/clf_rfc.pkl_883.npy',\n",
       " 'clf/clf_rfc.pkl_884.npy',\n",
       " 'clf/clf_rfc.pkl_885.npy',\n",
       " 'clf/clf_rfc.pkl_886.npy',\n",
       " 'clf/clf_rfc.pkl_887.npy',\n",
       " 'clf/clf_rfc.pkl_888.npy',\n",
       " 'clf/clf_rfc.pkl_889.npy',\n",
       " 'clf/clf_rfc.pkl_890.npy',\n",
       " 'clf/clf_rfc.pkl_891.npy',\n",
       " 'clf/clf_rfc.pkl_892.npy',\n",
       " 'clf/clf_rfc.pkl_893.npy',\n",
       " 'clf/clf_rfc.pkl_894.npy',\n",
       " 'clf/clf_rfc.pkl_895.npy',\n",
       " 'clf/clf_rfc.pkl_896.npy',\n",
       " 'clf/clf_rfc.pkl_897.npy',\n",
       " 'clf/clf_rfc.pkl_898.npy',\n",
       " 'clf/clf_rfc.pkl_899.npy',\n",
       " 'clf/clf_rfc.pkl_900.npy',\n",
       " 'clf/clf_rfc.pkl_901.npy',\n",
       " 'clf/clf_rfc.pkl_902.npy',\n",
       " 'clf/clf_rfc.pkl_903.npy',\n",
       " 'clf/clf_rfc.pkl_904.npy',\n",
       " 'clf/clf_rfc.pkl_905.npy',\n",
       " 'clf/clf_rfc.pkl_906.npy',\n",
       " 'clf/clf_rfc.pkl_907.npy',\n",
       " 'clf/clf_rfc.pkl_908.npy',\n",
       " 'clf/clf_rfc.pkl_909.npy',\n",
       " 'clf/clf_rfc.pkl_910.npy',\n",
       " 'clf/clf_rfc.pkl_911.npy',\n",
       " 'clf/clf_rfc.pkl_912.npy',\n",
       " 'clf/clf_rfc.pkl_913.npy',\n",
       " 'clf/clf_rfc.pkl_914.npy',\n",
       " 'clf/clf_rfc.pkl_915.npy',\n",
       " 'clf/clf_rfc.pkl_916.npy',\n",
       " 'clf/clf_rfc.pkl_917.npy',\n",
       " 'clf/clf_rfc.pkl_918.npy',\n",
       " 'clf/clf_rfc.pkl_919.npy',\n",
       " 'clf/clf_rfc.pkl_920.npy',\n",
       " 'clf/clf_rfc.pkl_921.npy',\n",
       " 'clf/clf_rfc.pkl_922.npy',\n",
       " 'clf/clf_rfc.pkl_923.npy',\n",
       " 'clf/clf_rfc.pkl_924.npy',\n",
       " 'clf/clf_rfc.pkl_925.npy',\n",
       " 'clf/clf_rfc.pkl_926.npy',\n",
       " 'clf/clf_rfc.pkl_927.npy',\n",
       " 'clf/clf_rfc.pkl_928.npy',\n",
       " 'clf/clf_rfc.pkl_929.npy',\n",
       " 'clf/clf_rfc.pkl_930.npy',\n",
       " 'clf/clf_rfc.pkl_931.npy',\n",
       " 'clf/clf_rfc.pkl_932.npy',\n",
       " 'clf/clf_rfc.pkl_933.npy',\n",
       " 'clf/clf_rfc.pkl_934.npy',\n",
       " 'clf/clf_rfc.pkl_935.npy',\n",
       " 'clf/clf_rfc.pkl_936.npy',\n",
       " 'clf/clf_rfc.pkl_937.npy',\n",
       " 'clf/clf_rfc.pkl_938.npy',\n",
       " 'clf/clf_rfc.pkl_939.npy',\n",
       " 'clf/clf_rfc.pkl_940.npy',\n",
       " 'clf/clf_rfc.pkl_941.npy',\n",
       " 'clf/clf_rfc.pkl_942.npy',\n",
       " 'clf/clf_rfc.pkl_943.npy',\n",
       " 'clf/clf_rfc.pkl_944.npy',\n",
       " 'clf/clf_rfc.pkl_945.npy',\n",
       " 'clf/clf_rfc.pkl_946.npy',\n",
       " 'clf/clf_rfc.pkl_947.npy',\n",
       " 'clf/clf_rfc.pkl_948.npy',\n",
       " 'clf/clf_rfc.pkl_949.npy',\n",
       " 'clf/clf_rfc.pkl_950.npy',\n",
       " 'clf/clf_rfc.pkl_951.npy',\n",
       " 'clf/clf_rfc.pkl_952.npy',\n",
       " 'clf/clf_rfc.pkl_953.npy',\n",
       " 'clf/clf_rfc.pkl_954.npy',\n",
       " 'clf/clf_rfc.pkl_955.npy',\n",
       " 'clf/clf_rfc.pkl_956.npy',\n",
       " 'clf/clf_rfc.pkl_957.npy',\n",
       " 'clf/clf_rfc.pkl_958.npy',\n",
       " 'clf/clf_rfc.pkl_959.npy',\n",
       " 'clf/clf_rfc.pkl_960.npy',\n",
       " 'clf/clf_rfc.pkl_961.npy',\n",
       " 'clf/clf_rfc.pkl_962.npy',\n",
       " 'clf/clf_rfc.pkl_963.npy',\n",
       " 'clf/clf_rfc.pkl_964.npy',\n",
       " 'clf/clf_rfc.pkl_965.npy',\n",
       " 'clf/clf_rfc.pkl_966.npy',\n",
       " 'clf/clf_rfc.pkl_967.npy',\n",
       " 'clf/clf_rfc.pkl_968.npy',\n",
       " 'clf/clf_rfc.pkl_969.npy',\n",
       " 'clf/clf_rfc.pkl_970.npy',\n",
       " 'clf/clf_rfc.pkl_971.npy',\n",
       " 'clf/clf_rfc.pkl_972.npy',\n",
       " 'clf/clf_rfc.pkl_973.npy',\n",
       " 'clf/clf_rfc.pkl_974.npy',\n",
       " 'clf/clf_rfc.pkl_975.npy',\n",
       " 'clf/clf_rfc.pkl_976.npy',\n",
       " 'clf/clf_rfc.pkl_977.npy',\n",
       " 'clf/clf_rfc.pkl_978.npy',\n",
       " 'clf/clf_rfc.pkl_979.npy',\n",
       " 'clf/clf_rfc.pkl_980.npy',\n",
       " 'clf/clf_rfc.pkl_981.npy',\n",
       " 'clf/clf_rfc.pkl_982.npy',\n",
       " 'clf/clf_rfc.pkl_983.npy',\n",
       " 'clf/clf_rfc.pkl_984.npy',\n",
       " 'clf/clf_rfc.pkl_985.npy',\n",
       " 'clf/clf_rfc.pkl_986.npy',\n",
       " 'clf/clf_rfc.pkl_987.npy',\n",
       " 'clf/clf_rfc.pkl_988.npy',\n",
       " 'clf/clf_rfc.pkl_989.npy',\n",
       " 'clf/clf_rfc.pkl_990.npy',\n",
       " 'clf/clf_rfc.pkl_991.npy',\n",
       " 'clf/clf_rfc.pkl_992.npy',\n",
       " 'clf/clf_rfc.pkl_993.npy',\n",
       " 'clf/clf_rfc.pkl_994.npy',\n",
       " 'clf/clf_rfc.pkl_995.npy',\n",
       " 'clf/clf_rfc.pkl_996.npy',\n",
       " 'clf/clf_rfc.pkl_997.npy',\n",
       " 'clf/clf_rfc.pkl_998.npy',\n",
       " 'clf/clf_rfc.pkl_999.npy',\n",
       " ...]"
      ]
     },
     "execution_count": 94,
     "metadata": {},
     "output_type": "execute_result"
    }
   ],
   "source": [
    "externals.joblib.dump(clf_rfc, 'clf/clf_rfc.pkl')"
   ]
  }
 ],
 "metadata": {
  "anaconda-cloud": {},
  "kernelspec": {
   "display_name": "Python 2",
   "language": "python",
   "name": "python2"
  },
  "language_info": {
   "codemirror_mode": {
    "name": "ipython",
    "version": 2
   },
   "file_extension": ".py",
   "mimetype": "text/x-python",
   "name": "python",
   "nbconvert_exporter": "python",
   "pygments_lexer": "ipython2",
   "version": "2.7.13"
  }
 },
 "nbformat": 4,
 "nbformat_minor": 1
}
